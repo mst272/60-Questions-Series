{
 "cells": [
  {
   "cell_type": "code",
   "execution_count": 1,
   "id": "initial_id",
   "metadata": {
    "collapsed": true,
    "ExecuteTime": {
     "end_time": "2023-12-19T15:51:19.100310500Z",
     "start_time": "2023-12-19T15:51:15.638219Z"
    }
   },
   "outputs": [],
   "source": [
    "import torch"
   ]
  },
  {
   "cell_type": "markdown",
   "source": [
    "1. 创建3x5的空张量"
   ],
   "metadata": {
    "collapsed": false
   },
   "id": "af05a71b5b367464"
  },
  {
   "cell_type": "code",
   "execution_count": 6,
   "outputs": [
    {
     "data": {
      "text/plain": "tensor([[-5.0749e+30,  1.4714e-42,  0.0000e+00,  0.0000e+00,  0.0000e+00],\n        [ 0.0000e+00,  0.0000e+00,  0.0000e+00,  0.0000e+00,  0.0000e+00],\n        [ 0.0000e+00,  0.0000e+00,  0.0000e+00,  0.0000e+00,  0.0000e+00]])"
     },
     "execution_count": 6,
     "metadata": {},
     "output_type": "execute_result"
    }
   ],
   "source": [
    "x = torch.empty(3,5)\n",
    "x"
   ],
   "metadata": {
    "collapsed": false,
    "ExecuteTime": {
     "end_time": "2023-12-17T18:30:51.516184300Z",
     "start_time": "2023-12-17T18:30:51.505074500Z"
    }
   },
   "id": "dd6d173178a55717"
  },
  {
   "cell_type": "markdown",
   "source": [
    "2. 创建3X5随机张量"
   ],
   "metadata": {
    "collapsed": false
   },
   "id": "c34b7482eea1ae6e"
  },
  {
   "cell_type": "code",
   "execution_count": 4,
   "outputs": [
    {
     "data": {
      "text/plain": "tensor([[0.6091, 0.0371, 0.3580, 0.3495, 0.5368],\n        [0.5691, 0.6622, 0.4659, 0.4967, 0.3460],\n        [0.0990, 0.4412, 0.1128, 0.1115, 0.7850]])"
     },
     "execution_count": 4,
     "metadata": {},
     "output_type": "execute_result"
    }
   ],
   "source": [
    "x = torch.rand(3,5)\n",
    "x"
   ],
   "metadata": {
    "collapsed": false,
    "ExecuteTime": {
     "end_time": "2023-12-17T18:30:36.313461200Z",
     "start_time": "2023-12-17T18:30:36.293738200Z"
    }
   },
   "id": "9be29d10704ceb98"
  },
  {
   "cell_type": "markdown",
   "source": [
    "3、创建3x5的 0 张量， 类型为long"
   ],
   "metadata": {
    "collapsed": false
   },
   "id": "96bf161943736f39"
  },
  {
   "cell_type": "code",
   "execution_count": 2,
   "outputs": [
    {
     "data": {
      "text/plain": "tensor([[0, 0, 0, 0, 0],\n        [0, 0, 0, 0, 0],\n        [0, 0, 0, 0, 0]])"
     },
     "execution_count": 2,
     "metadata": {},
     "output_type": "execute_result"
    }
   ],
   "source": [
    "x = torch.zeros(3,5,dtype=torch.long)\n",
    "x"
   ],
   "metadata": {
    "collapsed": false,
    "ExecuteTime": {
     "end_time": "2023-12-18T14:41:14.731241400Z",
     "start_time": "2023-12-18T14:41:14.682160300Z"
    }
   },
   "id": "1cbf9994cd015f5e"
  },
  {
   "cell_type": "markdown",
   "source": [
    "4、将数组转换为张量"
   ],
   "metadata": {
    "collapsed": false
   },
   "id": "4ded7cd7b099c6a7"
  },
  {
   "cell_type": "code",
   "execution_count": 3,
   "outputs": [
    {
     "data": {
      "text/plain": "tensor([5, 4, 3, 1])"
     },
     "execution_count": 3,
     "metadata": {},
     "output_type": "execute_result"
    }
   ],
   "source": [
    "lis = [5,4,3,1]\n",
    "res = torch.tensor(lis)\n",
    "res"
   ],
   "metadata": {
    "collapsed": false,
    "ExecuteTime": {
     "end_time": "2023-12-18T14:42:16.345123300Z",
     "start_time": "2023-12-18T14:42:16.324709900Z"
    }
   },
   "id": "c07381e1ed85d30e"
  },
  {
   "cell_type": "markdown",
   "source": [
    "5、创建一个3x5的单位张量，类型为double"
   ],
   "metadata": {
    "collapsed": false
   },
   "id": "a66b3d58bfee2e10"
  },
  {
   "cell_type": "code",
   "execution_count": 4,
   "outputs": [
    {
     "data": {
      "text/plain": "tensor([[1., 1., 1., 1., 1.],\n        [1., 1., 1., 1., 1.],\n        [1., 1., 1., 1., 1.]], dtype=torch.float64)"
     },
     "execution_count": 4,
     "metadata": {},
     "output_type": "execute_result"
    }
   ],
   "source": [
    "x = torch.ones(3,5,dtype=torch.double)\n",
    "x"
   ],
   "metadata": {
    "collapsed": false,
    "ExecuteTime": {
     "end_time": "2023-12-18T14:43:18.043034900Z",
     "start_time": "2023-12-18T14:43:17.988851600Z"
    }
   },
   "id": "73a8e353cc30703c"
  },
  {
   "cell_type": "markdown",
   "source": [
    "6、返回一个与输入张量大小相同的张量，其中填充了均值为 0 方差为 1 的正态分布的随机值。且类型为double"
   ],
   "metadata": {
    "collapsed": false
   },
   "id": "8ee194c228bdead1"
  },
  {
   "cell_type": "code",
   "execution_count": 5,
   "outputs": [
    {
     "data": {
      "text/plain": "tensor([[0.8370, 0.2058, 0.0373, 0.7991, 0.4194],\n        [0.7523, 0.5955, 0.4956, 0.0329, 0.5494],\n        [0.4739, 0.0497, 0.8044, 0.6433, 0.7104]], dtype=torch.float64)"
     },
     "execution_count": 5,
     "metadata": {},
     "output_type": "execute_result"
    }
   ],
   "source": [
    "x2 = torch.rand_like(x,dtype=torch.double)\n",
    "x2"
   ],
   "metadata": {
    "collapsed": false,
    "ExecuteTime": {
     "end_time": "2023-12-18T14:48:39.317515Z",
     "start_time": "2023-12-18T14:48:39.293508600Z"
    }
   },
   "id": "1680679b7a0272f4"
  },
  {
   "cell_type": "markdown",
   "source": [
    "7、打印张量的维度"
   ],
   "metadata": {
    "collapsed": false
   },
   "id": "54837b3628a9eb61"
  },
  {
   "cell_type": "code",
   "execution_count": 6,
   "outputs": [
    {
     "name": "stdout",
     "output_type": "stream",
     "text": [
      "torch.Size([3, 5])\n"
     ]
    }
   ],
   "source": [
    "print(x2.size())"
   ],
   "metadata": {
    "collapsed": false,
    "ExecuteTime": {
     "end_time": "2023-12-18T14:49:08.163636300Z",
     "start_time": "2023-12-18T14:49:08.151802100Z"
    }
   },
   "id": "6e7213df612ee8c1"
  },
  {
   "cell_type": "markdown",
   "source": [
    "8、相加两个张量"
   ],
   "metadata": {
    "collapsed": false
   },
   "id": "8e2150c8a1ed3a72"
  },
  {
   "cell_type": "code",
   "execution_count": 7,
   "outputs": [
    {
     "name": "stdout",
     "output_type": "stream",
     "text": [
      "tensor([4, 6])\n"
     ]
    }
   ],
   "source": [
    "a = [1,2]\n",
    "b = [3,4]\n",
    "a = torch.tensor(a)\n",
    "b = torch.tensor(b)\n",
    "print(a+b)"
   ],
   "metadata": {
    "collapsed": false,
    "ExecuteTime": {
     "end_time": "2023-12-18T14:57:56.451890700Z",
     "start_time": "2023-12-18T14:57:56.435890300Z"
    }
   },
   "id": "df57e5d55183064a"
  },
  {
   "cell_type": "markdown",
   "source": [
    "9、取tensor的第一列，注意 两种取法是不同的"
   ],
   "metadata": {
    "collapsed": false
   },
   "id": "10ebb0aa22bad537"
  },
  {
   "cell_type": "code",
   "execution_count": 9,
   "outputs": [
    {
     "data": {
      "text/plain": "tensor([[0.3535, 0.6502, 0.8407, 0.3599, 0.5963],\n        [0.8041, 0.3600, 0.0344, 0.9253, 0.3299],\n        [0.3807, 0.3886, 0.0299, 0.9268, 0.1788]])"
     },
     "execution_count": 9,
     "metadata": {},
     "output_type": "execute_result"
    }
   ],
   "source": [
    "x = torch.rand(3,5)\n",
    "x"
   ],
   "metadata": {
    "collapsed": false,
    "ExecuteTime": {
     "end_time": "2023-12-18T14:58:35.321365700Z",
     "start_time": "2023-12-18T14:58:35.309370600Z"
    }
   },
   "id": "2dc9a7033f3bf3fc"
  },
  {
   "cell_type": "code",
   "execution_count": 10,
   "outputs": [
    {
     "data": {
      "text/plain": "tensor([0.6502, 0.3600, 0.3886])"
     },
     "execution_count": 10,
     "metadata": {},
     "output_type": "execute_result"
    }
   ],
   "source": [
    "x[:,1]"
   ],
   "metadata": {
    "collapsed": false,
    "ExecuteTime": {
     "end_time": "2023-12-18T14:58:58.463150100Z",
     "start_time": "2023-12-18T14:58:58.433405500Z"
    }
   },
   "id": "a3578cd71cfd8962"
  },
  {
   "cell_type": "code",
   "execution_count": 11,
   "outputs": [
    {
     "data": {
      "text/plain": "tensor([[0.3535],\n        [0.8041],\n        [0.3807]])"
     },
     "execution_count": 11,
     "metadata": {},
     "output_type": "execute_result"
    }
   ],
   "source": [
    "x[:,0:1]"
   ],
   "metadata": {
    "collapsed": false,
    "ExecuteTime": {
     "end_time": "2023-12-18T14:59:08.772395600Z",
     "start_time": "2023-12-18T14:59:08.740954700Z"
    }
   },
   "id": "55a76fe254086708"
  },
  {
   "cell_type": "markdown",
   "source": [
    "10、 将一个4x4 tensor resize成一个一维tensor 。可以用view也可以用reshape，涉及到连续与不连续问题，所以无脑用reshape即可。\n",
    "    \n",
    "tips: 确定一个维度，-1的维度会被自动计算"
   ],
   "metadata": {
    "collapsed": false
   },
   "id": "8832172a005c3ec9"
  },
  {
   "cell_type": "code",
   "execution_count": 15,
   "outputs": [
    {
     "data": {
      "text/plain": "tensor([[0.7372, 0.0522, 0.1516, 0.0276],\n        [0.2510, 0.7111, 0.9016, 0.7040],\n        [0.8484, 0.9016, 0.0571, 0.9852],\n        [0.8587, 0.0436, 0.4506, 0.1940]])"
     },
     "execution_count": 15,
     "metadata": {},
     "output_type": "execute_result"
    }
   ],
   "source": [
    "x = torch.rand(4,4)\n",
    "x"
   ],
   "metadata": {
    "collapsed": false,
    "ExecuteTime": {
     "end_time": "2023-12-18T15:05:12.815040600Z",
     "start_time": "2023-12-18T15:05:12.811039Z"
    }
   },
   "id": "8320ed2d6728c6ff"
  },
  {
   "cell_type": "code",
   "execution_count": 17,
   "outputs": [
    {
     "data": {
      "text/plain": "tensor([[0.7372, 0.0522, 0.1516, 0.0276, 0.2510, 0.7111, 0.9016, 0.7040],\n        [0.8484, 0.9016, 0.0571, 0.9852, 0.8587, 0.0436, 0.4506, 0.1940]])"
     },
     "execution_count": 17,
     "metadata": {},
     "output_type": "execute_result"
    }
   ],
   "source": [
    "y = x.reshape(-1,8)\n",
    "y"
   ],
   "metadata": {
    "collapsed": false,
    "ExecuteTime": {
     "end_time": "2023-12-18T15:05:20.013208200Z",
     "start_time": "2023-12-18T15:05:20.005206100Z"
    }
   },
   "id": "9a749648c6947893"
  },
  {
   "cell_type": "markdown",
   "source": [
    "11 、 从tensor中取出数字"
   ],
   "metadata": {
    "collapsed": false
   },
   "id": "a89a76ae528c046e"
  },
  {
   "cell_type": "code",
   "execution_count": 18,
   "outputs": [
    {
     "data": {
      "text/plain": "tensor([[0.6338, 0.6765, 0.0342],\n        [0.0363, 0.3282, 0.7946]])"
     },
     "execution_count": 18,
     "metadata": {},
     "output_type": "execute_result"
    }
   ],
   "source": [
    "x = torch.rand(2,3)\n",
    "x"
   ],
   "metadata": {
    "collapsed": false,
    "ExecuteTime": {
     "end_time": "2023-12-18T15:13:51.304030200Z",
     "start_time": "2023-12-18T15:13:51.296007200Z"
    }
   },
   "id": "68d15e13337786a4"
  },
  {
   "cell_type": "code",
   "execution_count": 19,
   "outputs": [
    {
     "name": "stdout",
     "output_type": "stream",
     "text": [
      "0.6765420436859131\n"
     ]
    }
   ],
   "source": [
    "print(x[0,1].item())"
   ],
   "metadata": {
    "collapsed": false,
    "ExecuteTime": {
     "end_time": "2023-12-18T15:14:17.369221300Z",
     "start_time": "2023-12-18T15:14:17.348964700Z"
    }
   },
   "id": "d33feaccd49d3e38"
  },
  {
   "cell_type": "markdown",
   "source": [
    "12、连接张量，在行和列分别连接.0代表行，1代表列"
   ],
   "metadata": {
    "collapsed": false
   },
   "id": "106f4a45766d3bbe"
  },
  {
   "cell_type": "code",
   "execution_count": 16,
   "outputs": [
    {
     "data": {
      "text/plain": "tensor([[ 0.2184, -2.3641,  1.3701],\n        [ 0.5852,  0.4669, -0.8358]])"
     },
     "execution_count": 16,
     "metadata": {},
     "output_type": "execute_result"
    }
   ],
   "source": [
    "x = torch.randn(2, 3)\n",
    "x"
   ],
   "metadata": {
    "collapsed": false,
    "ExecuteTime": {
     "end_time": "2023-12-19T16:13:08.055808100Z",
     "start_time": "2023-12-19T16:13:08.035802400Z"
    }
   },
   "id": "ab18ca265e8888b3"
  },
  {
   "cell_type": "code",
   "execution_count": 17,
   "outputs": [
    {
     "data": {
      "text/plain": "tensor([[ 0.2184, -2.3641,  1.3701],\n        [ 0.5852,  0.4669, -0.8358],\n        [ 0.2184, -2.3641,  1.3701],\n        [ 0.5852,  0.4669, -0.8358],\n        [ 0.2184, -2.3641,  1.3701],\n        [ 0.5852,  0.4669, -0.8358]])"
     },
     "execution_count": 17,
     "metadata": {},
     "output_type": "execute_result"
    }
   ],
   "source": [
    "torch.cat((x, x, x), 0)"
   ],
   "metadata": {
    "collapsed": false,
    "ExecuteTime": {
     "end_time": "2023-12-19T16:13:20.117670Z",
     "start_time": "2023-12-19T16:13:20.097112500Z"
    }
   },
   "id": "2ed7559a16c2605e"
  },
  {
   "cell_type": "code",
   "execution_count": 18,
   "outputs": [
    {
     "data": {
      "text/plain": "tensor([[ 0.2184, -2.3641,  1.3701,  0.2184, -2.3641,  1.3701,  0.2184, -2.3641,\n          1.3701],\n        [ 0.5852,  0.4669, -0.8358,  0.5852,  0.4669, -0.8358,  0.5852,  0.4669,\n         -0.8358]])"
     },
     "execution_count": 18,
     "metadata": {},
     "output_type": "execute_result"
    }
   ],
   "source": [
    "torch.cat((x, x, x), 1)"
   ],
   "metadata": {
    "collapsed": false,
    "ExecuteTime": {
     "end_time": "2023-12-19T16:13:28.228921500Z",
     "start_time": "2023-12-19T16:13:28.169945Z"
    }
   },
   "id": "c0a85fc944a5b4c3"
  },
  {
   "cell_type": "markdown",
   "source": [
    "## 自动微分"
   ],
   "metadata": {
    "collapsed": false
   },
   "id": "606b81cd4e7380ec"
  },
  {
   "cell_type": "markdown",
   "source": [
    "13、 新建tensor 设置require_grad=True,   requires_grad 表达的含义是，这一参数是否保留（或者说持有，即在前向传播完成后，是否在显存中记录这一参数的梯度，而非立即释放）梯度，等待优化器执行optim.step()更新参数。"
   ],
   "metadata": {
    "collapsed": false
   },
   "id": "65c9b3bb2d885e3"
  },
  {
   "cell_type": "code",
   "execution_count": 4,
   "outputs": [
    {
     "name": "stdout",
     "output_type": "stream",
     "text": [
      "tensor([[1., 1.],\n",
      "        [1., 1.],\n",
      "        [1., 1.]], requires_grad=True)\n",
      "tensor([[1., 1.],\n",
      "        [1., 1.],\n",
      "        [1., 1.]])\n"
     ]
    }
   ],
   "source": [
    "x = torch.ones(3,2,requires_grad=True)\n",
    "y = torch.ones(3,2)\n",
    "print(x)\n",
    "print(y)"
   ],
   "metadata": {
    "collapsed": false,
    "ExecuteTime": {
     "end_time": "2023-12-19T15:54:42.035834500Z",
     "start_time": "2023-12-19T15:54:42.023829900Z"
    }
   },
   "id": "d8d6a3e06975184b"
  },
  {
   "cell_type": "markdown",
   "source": [
    "14、 对上述requires_grad=True的张量进行加法，输出会有AddBackward0"
   ],
   "metadata": {
    "collapsed": false
   },
   "id": "8b86951344c602f8"
  },
  {
   "cell_type": "code",
   "execution_count": 5,
   "outputs": [
    {
     "name": "stdout",
     "output_type": "stream",
     "text": [
      "tensor([[3., 3.],\n",
      "        [3., 3.],\n",
      "        [3., 3.]], grad_fn=<AddBackward0>)\n",
      "<AddBackward0 object at 0x000002695DD2BC10>\n"
     ]
    }
   ],
   "source": [
    "z = x + 2\n",
    "print(z)\n",
    "print(z.grad_fn)"
   ],
   "metadata": {
    "collapsed": false,
    "ExecuteTime": {
     "end_time": "2023-12-19T15:55:41.843272400Z",
     "start_time": "2023-12-19T15:55:41.824800200Z"
    }
   },
   "id": "e37fe25363d65375"
  },
  {
   "cell_type": "markdown",
   "source": [
    "15、在对上述的z进行乘法操作，输出就会MulBackward0"
   ],
   "metadata": {
    "collapsed": false
   },
   "id": "9909c57147f2a76e"
  },
  {
   "cell_type": "code",
   "execution_count": 10,
   "outputs": [
    {
     "name": "stdout",
     "output_type": "stream",
     "text": [
      "tensor([[6., 6.],\n",
      "        [6., 6.],\n",
      "        [6., 6.]], grad_fn=<MulBackward0>)\n",
      "tensor(6., grad_fn=<MeanBackward0>)\n"
     ]
    }
   ],
   "source": [
    "zz = z * 2\n",
    "print(zz)\n",
    "out = zz.mean()\n",
    "print(out)"
   ],
   "metadata": {
    "collapsed": false,
    "ExecuteTime": {
     "end_time": "2023-12-19T16:00:35.682874800Z",
     "start_time": "2023-12-19T16:00:35.666869200Z"
    }
   },
   "id": "fb454696b6987a43"
  },
  {
   "cell_type": "markdown",
   "source": [
    "16、对out进行反向传播  "
   ],
   "metadata": {
    "collapsed": false
   },
   "id": "90f46df98469f26c"
  },
  {
   "cell_type": "code",
   "execution_count": 11,
   "outputs": [],
   "source": [
    "out.backward()"
   ],
   "metadata": {
    "collapsed": false,
    "ExecuteTime": {
     "end_time": "2023-12-19T16:04:15.285764100Z",
     "start_time": "2023-12-19T16:04:15.238609300Z"
    }
   },
   "id": "4c07116b3af58f19"
  },
  {
   "cell_type": "markdown",
   "source": [
    "17、打印梯度d(out)/dx ，   out=mean((x+2)*2)"
   ],
   "metadata": {
    "collapsed": false
   },
   "id": "3383643c79d7162a"
  },
  {
   "cell_type": "code",
   "execution_count": 14,
   "outputs": [
    {
     "name": "stdout",
     "output_type": "stream",
     "text": [
      "tensor([[0.3333, 0.3333],\n",
      "        [0.3333, 0.3333],\n",
      "        [0.3333, 0.3333]])\n"
     ]
    }
   ],
   "source": [
    "print(x.grad)"
   ],
   "metadata": {
    "collapsed": false,
    "ExecuteTime": {
     "end_time": "2023-12-19T16:04:57.339604Z",
     "start_time": "2023-12-19T16:04:57.331601400Z"
    }
   },
   "id": "b685cabe3a9f486d"
  },
  {
   "cell_type": "markdown",
   "source": [
    "# 数据集相关"
   ],
   "metadata": {
    "collapsed": false
   },
   "id": "76673b713a9128d0"
  },
  {
   "cell_type": "markdown",
   "source": [
    "18、为自己的深度学习创建自定义数据集"
   ],
   "metadata": {
    "collapsed": false
   },
   "id": "e869eacaf5b734b0"
  },
  {
   "cell_type": "code",
   "execution_count": 19,
   "outputs": [],
   "source": [
    "import pandas as pd\n",
    "from torch.utils.data import Dataset\n",
    "import os\n",
    "from torchvision.io import read_image\n",
    "\n",
    "\n",
    "class MyData(Dataset):\n",
    "    \"\"\"\n",
    "    Args:\n",
    "        csv_file: 图像名及标签csv文件存放\n",
    "        例如：tshirt1.jpg, 0\n",
    "             tshirt2.jpg, 0\n",
    "        img_dir：数据存放的路径\n",
    "        transform: 是否对图像进行转换\n",
    "        target_transform: 是否对图像进行转换\n",
    "    \"\"\"\n",
    "\n",
    "    def __init__(self, csv_file, img_dir, transform=None, target_transform=None):\n",
    "        self.img_labels = pd.read_csv(csv_file)\n",
    "        self.img_dir = img_dir\n",
    "        self.transform = transform\n",
    "        self.target_transform = target_transform\n",
    "\n",
    "    def __getitem__(self, item):\n",
    "        # os.path.join用于拼接路径\n",
    "        img_path = os.path.join(self.img_dir, self.img_labels.iloc[item, 0])\n",
    "        image = read_image(img_path)\n",
    "        label = self.img_labels.iloc[item, 1]\n",
    "        if self.transform:\n",
    "            image = self.transform(image)\n",
    "        if self.target_transform:\n",
    "            label = self.target_transform(label)\n",
    "        return image, label\n",
    "\n",
    "    def __len__(self):\n",
    "        return len(self.img_labels)"
   ],
   "metadata": {
    "collapsed": false,
    "ExecuteTime": {
     "end_time": "2023-12-19T16:53:24.848753Z",
     "start_time": "2023-12-19T16:53:23.131409900Z"
    }
   },
   "id": "3f2de47aa41bc8fb"
  },
  {
   "cell_type": "markdown",
   "source": [
    "19、使用DataLoaders进行训练"
   ],
   "metadata": {
    "collapsed": false
   },
   "id": "71fbc0939626a658"
  },
  {
   "cell_type": "code",
   "execution_count": null,
   "outputs": [],
   "source": [
    "from torch.utils.data import DataLoader\n",
    "train_csv_file = 'your train file'\n",
    "train_img_dir = 'your train dir'\n",
    "train_data = MyData(train_csv_file,train_img_dir)\n",
    "\n",
    "test_csv_file = 'your train file'\n",
    "test_img_dir = 'your train dir'\n",
    "test_data = MyData(train_csv_file,train_img_dir)\n",
    "\n",
    "train_dataloader = DataLoader(train_data,batch_size=64, shuffle=True)\n",
    "test_dataloader = DataLoader(test_data, batch_size=64, shuffle=True)"
   ],
   "metadata": {
    "collapsed": false
   },
   "id": "83560ce2cac9853b"
  },
  {
   "cell_type": "markdown",
   "source": [
    "20、 使用transform(在之前数据集的基础上)"
   ],
   "metadata": {
    "collapsed": false
   },
   "id": "ac4b35baddb7be4f"
  },
  {
   "cell_type": "code",
   "execution_count": null,
   "outputs": [],
   "source": [
    "# 还记得18题我们自定义的数据集吗，其中包含参数transform 和 target transform，\n",
    "# 我们可以 在构造数据及时就对其进行相应的转换\n",
    "# 很简单  只需简单增加几行\n",
    "from torchvision import transforms\n",
    "import os\n",
    "from torchvision.io import read_image\n",
    "\n",
    "\n",
    "class MyData(Dataset):\n",
    "    \"\"\"\n",
    "    Args:\n",
    "        csv_file: 图像名及标签csv文件存放\n",
    "        例如：tshirt1.jpg, 0\n",
    "             tshirt2.jpg, 0\n",
    "        img_dir：数据存放的路径\n",
    "        transform: 是否对图像进行转换\n",
    "        target_transform: 是否对图像进行转换\n",
    "    \"\"\"\n",
    "\n",
    "    def __init__(self, csv_file, img_dir, transform=None, target_transform=None,img_size):\n",
    "        self.img_labels = pd.read_csv(csv_file)\n",
    "        self.img_dir = img_dir\n",
    "        self.transform = transform\n",
    "        self.target_transform = target_transform\n",
    "        # transforms库中集成了很多方法，具体可见官方文档\n",
    "        self.transforms = transforms.Compose([\n",
    "            transforms.Resize((img_size, img_size)),\n",
    "            transforms.RandomHorizontalFlip(p=0.5),\n",
    "            transforms.ToTensor()\n",
    "        ])\n",
    "\n",
    "    def __getitem__(self, item):\n",
    "        # os.path.join用于拼接路径\n",
    "        img_path = os.path.join(self.img_dir, self.img_labels.iloc[item, 0])\n",
    "        image = read_image(img_path)\n",
    "        label = self.img_labels.iloc[item, 1]\n",
    "        if self.transform:\n",
    "            image = self.transforms(image)\n",
    "        if self.target_transform:\n",
    "            # 如果是分类任务当然用不到转换，但如果标签也是图像就可以用到了。\n",
    "            label = self.transforms(label)\n",
    "        return image, label\n",
    "\n",
    "    def __len__(self):\n",
    "        return len(self.img_labels)"
   ],
   "metadata": {
    "collapsed": false
   },
   "id": "1f8e1a9e2ec2a979"
  }
 ],
 "metadata": {
  "kernelspec": {
   "display_name": "Python 3",
   "language": "python",
   "name": "python3"
  },
  "language_info": {
   "codemirror_mode": {
    "name": "ipython",
    "version": 2
   },
   "file_extension": ".py",
   "mimetype": "text/x-python",
   "name": "python",
   "nbconvert_exporter": "python",
   "pygments_lexer": "ipython2",
   "version": "2.7.6"
  }
 },
 "nbformat": 4,
 "nbformat_minor": 5
}
