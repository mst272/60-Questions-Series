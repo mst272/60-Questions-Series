{
 "cells": [
  {
   "cell_type": "code",
   "execution_count": 2,
   "id": "initial_id",
   "metadata": {
    "collapsed": true,
    "ExecuteTime": {
     "end_time": "2023-12-17T18:29:12.607107300Z",
     "start_time": "2023-12-17T18:29:09.300142300Z"
    }
   },
   "outputs": [],
   "source": [
    "import torch"
   ]
  },
  {
   "cell_type": "markdown",
   "source": [
    "1. 创建3x5的空张量"
   ],
   "metadata": {
    "collapsed": false
   },
   "id": "af05a71b5b367464"
  },
  {
   "cell_type": "code",
   "execution_count": 6,
   "outputs": [
    {
     "data": {
      "text/plain": "tensor([[-5.0749e+30,  1.4714e-42,  0.0000e+00,  0.0000e+00,  0.0000e+00],\n        [ 0.0000e+00,  0.0000e+00,  0.0000e+00,  0.0000e+00,  0.0000e+00],\n        [ 0.0000e+00,  0.0000e+00,  0.0000e+00,  0.0000e+00,  0.0000e+00]])"
     },
     "execution_count": 6,
     "metadata": {},
     "output_type": "execute_result"
    }
   ],
   "source": [
    "x = torch.empty(3,5)\n",
    "x"
   ],
   "metadata": {
    "collapsed": false,
    "ExecuteTime": {
     "end_time": "2023-12-17T18:30:51.516184300Z",
     "start_time": "2023-12-17T18:30:51.505074500Z"
    }
   },
   "id": "dd6d173178a55717"
  },
  {
   "cell_type": "markdown",
   "source": [
    "2."
   ],
   "metadata": {
    "collapsed": false
   },
   "id": "c34b7482eea1ae6e"
  },
  {
   "cell_type": "code",
   "execution_count": 4,
   "outputs": [
    {
     "data": {
      "text/plain": "tensor([[0.6091, 0.0371, 0.3580, 0.3495, 0.5368],\n        [0.5691, 0.6622, 0.4659, 0.4967, 0.3460],\n        [0.0990, 0.4412, 0.1128, 0.1115, 0.7850]])"
     },
     "execution_count": 4,
     "metadata": {},
     "output_type": "execute_result"
    }
   ],
   "source": [
    "x = torch.rand(3,5)\n",
    "x"
   ],
   "metadata": {
    "collapsed": false,
    "ExecuteTime": {
     "end_time": "2023-12-17T18:30:36.313461200Z",
     "start_time": "2023-12-17T18:30:36.293738200Z"
    }
   },
   "id": "9be29d10704ceb98"
  },
  {
   "cell_type": "code",
   "execution_count": null,
   "outputs": [],
   "source": [],
   "metadata": {
    "collapsed": false
   },
   "id": "1cbf9994cd015f5e"
  }
 ],
 "metadata": {
  "kernelspec": {
   "display_name": "Python 3",
   "language": "python",
   "name": "python3"
  },
  "language_info": {
   "codemirror_mode": {
    "name": "ipython",
    "version": 2
   },
   "file_extension": ".py",
   "mimetype": "text/x-python",
   "name": "python",
   "nbconvert_exporter": "python",
   "pygments_lexer": "ipython2",
   "version": "2.7.6"
  }
 },
 "nbformat": 4,
 "nbformat_minor": 5
}
