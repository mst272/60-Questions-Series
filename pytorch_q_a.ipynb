{
 "cells": [
  {
   "cell_type": "code",
   "execution_count": 1,
   "id": "initial_id",
   "metadata": {
    "collapsed": true,
    "ExecuteTime": {
     "end_time": "2023-12-18T14:38:55.057636900Z",
     "start_time": "2023-12-18T14:38:51.495929900Z"
    }
   },
   "outputs": [],
   "source": [
    "import torch"
   ]
  },
  {
   "cell_type": "markdown",
   "source": [
    "1. 创建3x5的空张量"
   ],
   "metadata": {
    "collapsed": false
   },
   "id": "af05a71b5b367464"
  },
  {
   "cell_type": "code",
   "execution_count": 6,
   "outputs": [
    {
     "data": {
      "text/plain": "tensor([[-5.0749e+30,  1.4714e-42,  0.0000e+00,  0.0000e+00,  0.0000e+00],\n        [ 0.0000e+00,  0.0000e+00,  0.0000e+00,  0.0000e+00,  0.0000e+00],\n        [ 0.0000e+00,  0.0000e+00,  0.0000e+00,  0.0000e+00,  0.0000e+00]])"
     },
     "execution_count": 6,
     "metadata": {},
     "output_type": "execute_result"
    }
   ],
   "source": [
    "x = torch.empty(3,5)\n",
    "x"
   ],
   "metadata": {
    "collapsed": false,
    "ExecuteTime": {
     "end_time": "2023-12-17T18:30:51.516184300Z",
     "start_time": "2023-12-17T18:30:51.505074500Z"
    }
   },
   "id": "dd6d173178a55717"
  },
  {
   "cell_type": "markdown",
   "source": [
    "2. 创建3X5随机张量"
   ],
   "metadata": {
    "collapsed": false
   },
   "id": "c34b7482eea1ae6e"
  },
  {
   "cell_type": "code",
   "execution_count": 4,
   "outputs": [
    {
     "data": {
      "text/plain": "tensor([[0.6091, 0.0371, 0.3580, 0.3495, 0.5368],\n        [0.5691, 0.6622, 0.4659, 0.4967, 0.3460],\n        [0.0990, 0.4412, 0.1128, 0.1115, 0.7850]])"
     },
     "execution_count": 4,
     "metadata": {},
     "output_type": "execute_result"
    }
   ],
   "source": [
    "x = torch.rand(3,5)\n",
    "x"
   ],
   "metadata": {
    "collapsed": false,
    "ExecuteTime": {
     "end_time": "2023-12-17T18:30:36.313461200Z",
     "start_time": "2023-12-17T18:30:36.293738200Z"
    }
   },
   "id": "9be29d10704ceb98"
  },
  {
   "cell_type": "markdown",
   "source": [
    "3、创建3x5的 0 张量， 类型为long"
   ],
   "metadata": {
    "collapsed": false
   },
   "id": "96bf161943736f39"
  },
  {
   "cell_type": "code",
   "execution_count": 2,
   "outputs": [
    {
     "data": {
      "text/plain": "tensor([[0, 0, 0, 0, 0],\n        [0, 0, 0, 0, 0],\n        [0, 0, 0, 0, 0]])"
     },
     "execution_count": 2,
     "metadata": {},
     "output_type": "execute_result"
    }
   ],
   "source": [
    "x = torch.zeros(3,5,dtype=torch.long)\n",
    "x"
   ],
   "metadata": {
    "collapsed": false,
    "ExecuteTime": {
     "end_time": "2023-12-18T14:41:14.731241400Z",
     "start_time": "2023-12-18T14:41:14.682160300Z"
    }
   },
   "id": "1cbf9994cd015f5e"
  },
  {
   "cell_type": "markdown",
   "source": [
    "4、将数组转换为张量"
   ],
   "metadata": {
    "collapsed": false
   },
   "id": "4ded7cd7b099c6a7"
  },
  {
   "cell_type": "code",
   "execution_count": 3,
   "outputs": [
    {
     "data": {
      "text/plain": "tensor([5, 4, 3, 1])"
     },
     "execution_count": 3,
     "metadata": {},
     "output_type": "execute_result"
    }
   ],
   "source": [
    "lis = [5,4,3,1]\n",
    "res = torch.tensor(lis)\n",
    "res"
   ],
   "metadata": {
    "collapsed": false,
    "ExecuteTime": {
     "end_time": "2023-12-18T14:42:16.345123300Z",
     "start_time": "2023-12-18T14:42:16.324709900Z"
    }
   },
   "id": "c07381e1ed85d30e"
  },
  {
   "cell_type": "markdown",
   "source": [
    "5、创建一个3x5的单位张量，类型为double"
   ],
   "metadata": {
    "collapsed": false
   },
   "id": "a66b3d58bfee2e10"
  },
  {
   "cell_type": "code",
   "execution_count": 4,
   "outputs": [
    {
     "data": {
      "text/plain": "tensor([[1., 1., 1., 1., 1.],\n        [1., 1., 1., 1., 1.],\n        [1., 1., 1., 1., 1.]], dtype=torch.float64)"
     },
     "execution_count": 4,
     "metadata": {},
     "output_type": "execute_result"
    }
   ],
   "source": [
    "x = torch.ones(3,5,dtype=torch.double)\n",
    "x"
   ],
   "metadata": {
    "collapsed": false,
    "ExecuteTime": {
     "end_time": "2023-12-18T14:43:18.043034900Z",
     "start_time": "2023-12-18T14:43:17.988851600Z"
    }
   },
   "id": "73a8e353cc30703c"
  },
  {
   "cell_type": "markdown",
   "source": [
    "6、返回一个与输入张量大小相同的张量，其中填充了均值为 0 方差为 1 的正态分布的随机值。且类型为double"
   ],
   "metadata": {
    "collapsed": false
   },
   "id": "8ee194c228bdead1"
  },
  {
   "cell_type": "code",
   "execution_count": 5,
   "outputs": [
    {
     "data": {
      "text/plain": "tensor([[0.8370, 0.2058, 0.0373, 0.7991, 0.4194],\n        [0.7523, 0.5955, 0.4956, 0.0329, 0.5494],\n        [0.4739, 0.0497, 0.8044, 0.6433, 0.7104]], dtype=torch.float64)"
     },
     "execution_count": 5,
     "metadata": {},
     "output_type": "execute_result"
    }
   ],
   "source": [
    "x2 = torch.rand_like(x,dtype=torch.double)\n",
    "x2"
   ],
   "metadata": {
    "collapsed": false,
    "ExecuteTime": {
     "end_time": "2023-12-18T14:48:39.317515Z",
     "start_time": "2023-12-18T14:48:39.293508600Z"
    }
   },
   "id": "1680679b7a0272f4"
  },
  {
   "cell_type": "markdown",
   "source": [
    "7、打印张量的维度"
   ],
   "metadata": {
    "collapsed": false
   },
   "id": "54837b3628a9eb61"
  },
  {
   "cell_type": "code",
   "execution_count": 6,
   "outputs": [
    {
     "name": "stdout",
     "output_type": "stream",
     "text": [
      "torch.Size([3, 5])\n"
     ]
    }
   ],
   "source": [
    "print(x2.size())"
   ],
   "metadata": {
    "collapsed": false,
    "ExecuteTime": {
     "end_time": "2023-12-18T14:49:08.163636300Z",
     "start_time": "2023-12-18T14:49:08.151802100Z"
    }
   },
   "id": "6e7213df612ee8c1"
  },
  {
   "cell_type": "markdown",
   "source": [
    "8、相加两个张量"
   ],
   "metadata": {
    "collapsed": false
   },
   "id": "8e2150c8a1ed3a72"
  },
  {
   "cell_type": "code",
   "execution_count": 7,
   "outputs": [
    {
     "name": "stdout",
     "output_type": "stream",
     "text": [
      "tensor([4, 6])\n"
     ]
    }
   ],
   "source": [
    "a = [1,2]\n",
    "b = [3,4]\n",
    "a = torch.tensor(a)\n",
    "b = torch.tensor(b)\n",
    "print(a+b)"
   ],
   "metadata": {
    "collapsed": false,
    "ExecuteTime": {
     "end_time": "2023-12-18T14:57:56.451890700Z",
     "start_time": "2023-12-18T14:57:56.435890300Z"
    }
   },
   "id": "df57e5d55183064a"
  },
  {
   "cell_type": "markdown",
   "source": [
    "9、取tensor的第一列，注意 两种取法是不同的"
   ],
   "metadata": {
    "collapsed": false
   },
   "id": "10ebb0aa22bad537"
  },
  {
   "cell_type": "code",
   "execution_count": 9,
   "outputs": [
    {
     "data": {
      "text/plain": "tensor([[0.3535, 0.6502, 0.8407, 0.3599, 0.5963],\n        [0.8041, 0.3600, 0.0344, 0.9253, 0.3299],\n        [0.3807, 0.3886, 0.0299, 0.9268, 0.1788]])"
     },
     "execution_count": 9,
     "metadata": {},
     "output_type": "execute_result"
    }
   ],
   "source": [
    "x = torch.rand(3,5)\n",
    "x"
   ],
   "metadata": {
    "collapsed": false,
    "ExecuteTime": {
     "end_time": "2023-12-18T14:58:35.321365700Z",
     "start_time": "2023-12-18T14:58:35.309370600Z"
    }
   },
   "id": "2dc9a7033f3bf3fc"
  },
  {
   "cell_type": "code",
   "execution_count": 10,
   "outputs": [
    {
     "data": {
      "text/plain": "tensor([0.6502, 0.3600, 0.3886])"
     },
     "execution_count": 10,
     "metadata": {},
     "output_type": "execute_result"
    }
   ],
   "source": [
    "x[:,1]"
   ],
   "metadata": {
    "collapsed": false,
    "ExecuteTime": {
     "end_time": "2023-12-18T14:58:58.463150100Z",
     "start_time": "2023-12-18T14:58:58.433405500Z"
    }
   },
   "id": "a3578cd71cfd8962"
  },
  {
   "cell_type": "code",
   "execution_count": 11,
   "outputs": [
    {
     "data": {
      "text/plain": "tensor([[0.3535],\n        [0.8041],\n        [0.3807]])"
     },
     "execution_count": 11,
     "metadata": {},
     "output_type": "execute_result"
    }
   ],
   "source": [
    "x[:,0:1]"
   ],
   "metadata": {
    "collapsed": false,
    "ExecuteTime": {
     "end_time": "2023-12-18T14:59:08.772395600Z",
     "start_time": "2023-12-18T14:59:08.740954700Z"
    }
   },
   "id": "55a76fe254086708"
  },
  {
   "cell_type": "markdown",
   "source": [
    "10、 将一个4x4 tensor resize成一个一维tensor 。可以用view也可以用reshape，涉及到连续与不连续问题，所以无脑用reshape即可。\n",
    "    \n",
    "tips: 确定一个维度，-1的维度会被自动计算"
   ],
   "metadata": {
    "collapsed": false
   },
   "id": "8832172a005c3ec9"
  },
  {
   "cell_type": "code",
   "execution_count": 15,
   "outputs": [
    {
     "data": {
      "text/plain": "tensor([[0.7372, 0.0522, 0.1516, 0.0276],\n        [0.2510, 0.7111, 0.9016, 0.7040],\n        [0.8484, 0.9016, 0.0571, 0.9852],\n        [0.8587, 0.0436, 0.4506, 0.1940]])"
     },
     "execution_count": 15,
     "metadata": {},
     "output_type": "execute_result"
    }
   ],
   "source": [
    "x = torch.rand(4,4)\n",
    "x"
   ],
   "metadata": {
    "collapsed": false,
    "ExecuteTime": {
     "end_time": "2023-12-18T15:05:12.815040600Z",
     "start_time": "2023-12-18T15:05:12.811039Z"
    }
   },
   "id": "8320ed2d6728c6ff"
  },
  {
   "cell_type": "code",
   "execution_count": 17,
   "outputs": [
    {
     "data": {
      "text/plain": "tensor([[0.7372, 0.0522, 0.1516, 0.0276, 0.2510, 0.7111, 0.9016, 0.7040],\n        [0.8484, 0.9016, 0.0571, 0.9852, 0.8587, 0.0436, 0.4506, 0.1940]])"
     },
     "execution_count": 17,
     "metadata": {},
     "output_type": "execute_result"
    }
   ],
   "source": [
    "y = x.reshape(-1,8)\n",
    "y"
   ],
   "metadata": {
    "collapsed": false,
    "ExecuteTime": {
     "end_time": "2023-12-18T15:05:20.013208200Z",
     "start_time": "2023-12-18T15:05:20.005206100Z"
    }
   },
   "id": "9a749648c6947893"
  },
  {
   "cell_type": "markdown",
   "source": [
    "11 、 从tensor中取出数字"
   ],
   "metadata": {
    "collapsed": false
   },
   "id": "a89a76ae528c046e"
  },
  {
   "cell_type": "code",
   "execution_count": 18,
   "outputs": [
    {
     "data": {
      "text/plain": "tensor([[0.6338, 0.6765, 0.0342],\n        [0.0363, 0.3282, 0.7946]])"
     },
     "execution_count": 18,
     "metadata": {},
     "output_type": "execute_result"
    }
   ],
   "source": [
    "x = torch.rand(2,3)\n",
    "x"
   ],
   "metadata": {
    "collapsed": false,
    "ExecuteTime": {
     "end_time": "2023-12-18T15:13:51.304030200Z",
     "start_time": "2023-12-18T15:13:51.296007200Z"
    }
   },
   "id": "68d15e13337786a4"
  },
  {
   "cell_type": "code",
   "execution_count": 19,
   "outputs": [
    {
     "name": "stdout",
     "output_type": "stream",
     "text": [
      "0.6765420436859131\n"
     ]
    }
   ],
   "source": [
    "print(x[0,1].item())"
   ],
   "metadata": {
    "collapsed": false,
    "ExecuteTime": {
     "end_time": "2023-12-18T15:14:17.369221300Z",
     "start_time": "2023-12-18T15:14:17.348964700Z"
    }
   },
   "id": "d33feaccd49d3e38"
  },
  {
   "cell_type": "markdown",
   "source": [
    "12、"
   ],
   "metadata": {
    "collapsed": false
   },
   "id": "65c9b3bb2d885e3"
  },
  {
   "cell_type": "markdown",
   "source": [],
   "metadata": {
    "collapsed": false
   },
   "id": "9c06a3394113d03d"
  }
 ],
 "metadata": {
  "kernelspec": {
   "display_name": "Python 3",
   "language": "python",
   "name": "python3"
  },
  "language_info": {
   "codemirror_mode": {
    "name": "ipython",
    "version": 2
   },
   "file_extension": ".py",
   "mimetype": "text/x-python",
   "name": "python",
   "nbconvert_exporter": "python",
   "pygments_lexer": "ipython2",
   "version": "2.7.6"
  }
 },
 "nbformat": 4,
 "nbformat_minor": 5
}
