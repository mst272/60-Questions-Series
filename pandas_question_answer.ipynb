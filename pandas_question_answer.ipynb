{
 "cells": [
  {
   "cell_type": "markdown",
   "source": [
    "### 1、最基础的，引入pandas并重命名为pd"
   ],
   "metadata": {
    "collapsed": false
   },
   "id": "9d3018792debc1e4"
  },
  {
   "cell_type": "code",
   "execution_count": 1,
   "id": "initial_id",
   "metadata": {
    "collapsed": true,
    "ExecuteTime": {
     "end_time": "2023-12-05T03:01:13.984919800Z",
     "start_time": "2023-12-05T03:01:12.525069600Z"
    }
   },
   "outputs": [],
   "source": [
    "import pandas as pd"
   ]
  },
  {
   "cell_type": "markdown",
   "source": [
    "### DataFrame 基础\n",
    "#### 2、将字典转换为pands数据"
   ],
   "metadata": {
    "collapsed": false
   },
   "id": "29314ef40fba75e6"
  },
  {
   "cell_type": "code",
   "execution_count": null,
   "outputs": [],
   "source": [
    "dic= {\n",
    "    'math': [99,56,60],\n",
    "    'chinese': [69,66,90],\n",
    "    'sports' : [99, 88, 82]\n",
    "}\n",
    "labels = ['a', 'b', 'c']   #指定行名，其实可以不指认，这样的话就是默认的0,1,2.。。。。。\n",
    "df = pd.DataFrame(dic,index=labels)\n",
    "df"
   ],
   "metadata": {
    "collapsed": false
   },
   "id": "99175c879b7aac14"
  },
  {
   "cell_type": "markdown",
   "source": [
    "#### 3、显示Dataframe上数据的基础信息"
   ],
   "metadata": {
    "collapsed": false
   },
   "id": "356a5798fa95236e"
  },
  {
   "cell_type": "code",
   "execution_count": 8,
   "outputs": [
    {
     "name": "stdout",
     "output_type": "stream",
     "text": [
      "<class 'pandas.core.frame.DataFrame'>\n",
      "Index: 3 entries, a to c\n",
      "Data columns (total 3 columns):\n",
      " #   Column   Non-Null Count  Dtype\n",
      "---  ------   --------------  -----\n",
      " 0   math     3 non-null      int64\n",
      " 1   chinese  3 non-null      int64\n",
      " 2   sports   3 non-null      int64\n",
      "dtypes: int64(3)\n",
      "memory usage: 96.0+ bytes\n"
     ]
    }
   ],
   "source": [
    "df.describe()  # 提供汇总数据统计\n",
    "\n",
    "# or\n",
    "\n",
    "df.info()  # 打印DataFrame的简要摘要"
   ],
   "metadata": {
    "collapsed": false,
    "ExecuteTime": {
     "end_time": "2023-12-05T03:27:30.665290700Z",
     "start_time": "2023-12-05T03:27:30.614429400Z"
    }
   },
   "id": "4dd464d2421ddfd8"
  },
  {
   "cell_type": "markdown",
   "source": [
    "#### 4、返回前n行数据"
   ],
   "metadata": {
    "collapsed": false
   },
   "id": "4e893adc7f36bf88"
  },
  {
   "cell_type": "code",
   "execution_count": 9,
   "outputs": [
    {
     "data": {
      "text/plain": "   math  chinese  sports\na    99       69      99\nb    56       66      88\nc    60       90      82",
      "text/html": "<div>\n<style scoped>\n    .dataframe tbody tr th:only-of-type {\n        vertical-align: middle;\n    }\n\n    .dataframe tbody tr th {\n        vertical-align: top;\n    }\n\n    .dataframe thead th {\n        text-align: right;\n    }\n</style>\n<table border=\"1\" class=\"dataframe\">\n  <thead>\n    <tr style=\"text-align: right;\">\n      <th></th>\n      <th>math</th>\n      <th>chinese</th>\n      <th>sports</th>\n    </tr>\n  </thead>\n  <tbody>\n    <tr>\n      <th>a</th>\n      <td>99</td>\n      <td>69</td>\n      <td>99</td>\n    </tr>\n    <tr>\n      <th>b</th>\n      <td>56</td>\n      <td>66</td>\n      <td>88</td>\n    </tr>\n    <tr>\n      <th>c</th>\n      <td>60</td>\n      <td>90</td>\n      <td>82</td>\n    </tr>\n  </tbody>\n</table>\n</div>"
     },
     "execution_count": 9,
     "metadata": {},
     "output_type": "execute_result"
    }
   ],
   "source": [
    "n = 5\n",
    "df.head(n)"
   ],
   "metadata": {
    "collapsed": false,
    "ExecuteTime": {
     "end_time": "2023-12-05T03:29:41.396975600Z",
     "start_time": "2023-12-05T03:29:41.378468600Z"
    }
   },
   "id": "ffd6810febf5e495"
  },
  {
   "cell_type": "markdown",
   "source": [
    "#### 5、只选择数据中的math 和 chinese列"
   ],
   "metadata": {
    "collapsed": false
   },
   "id": "e0dc24f98d208c41"
  },
  {
   "cell_type": "code",
   "execution_count": 12,
   "outputs": [
    {
     "data": {
      "text/plain": "   math  chinese\na    99       69\nb    56       66\nc    60       90",
      "text/html": "<div>\n<style scoped>\n    .dataframe tbody tr th:only-of-type {\n        vertical-align: middle;\n    }\n\n    .dataframe tbody tr th {\n        vertical-align: top;\n    }\n\n    .dataframe thead th {\n        text-align: right;\n    }\n</style>\n<table border=\"1\" class=\"dataframe\">\n  <thead>\n    <tr style=\"text-align: right;\">\n      <th></th>\n      <th>math</th>\n      <th>chinese</th>\n    </tr>\n  </thead>\n  <tbody>\n    <tr>\n      <th>a</th>\n      <td>99</td>\n      <td>69</td>\n    </tr>\n    <tr>\n      <th>b</th>\n      <td>56</td>\n      <td>66</td>\n    </tr>\n    <tr>\n      <th>c</th>\n      <td>60</td>\n      <td>90</td>\n    </tr>\n  </tbody>\n</table>\n</div>"
     },
     "execution_count": 12,
     "metadata": {},
     "output_type": "execute_result"
    }
   ],
   "source": [
    "df[['math','chinese']]"
   ],
   "metadata": {
    "collapsed": false,
    "ExecuteTime": {
     "end_time": "2023-12-05T05:54:42.017474600Z",
     "start_time": "2023-12-05T05:54:41.994760100Z"
    }
   },
   "id": "d828175f2398c424"
  },
  {
   "cell_type": "markdown",
   "source": [
    "#### 6、选择math 和 chinese 列中的第 1、3行数据"
   ],
   "metadata": {
    "collapsed": false
   },
   "id": "5db29e4b43627d8e"
  },
  {
   "cell_type": "code",
   "execution_count": 17,
   "outputs": [
    {
     "data": {
      "text/plain": "   math  chinese\na    99       69\nc    60       90",
      "text/html": "<div>\n<style scoped>\n    .dataframe tbody tr th:only-of-type {\n        vertical-align: middle;\n    }\n\n    .dataframe tbody tr th {\n        vertical-align: top;\n    }\n\n    .dataframe thead th {\n        text-align: right;\n    }\n</style>\n<table border=\"1\" class=\"dataframe\">\n  <thead>\n    <tr style=\"text-align: right;\">\n      <th></th>\n      <th>math</th>\n      <th>chinese</th>\n    </tr>\n  </thead>\n  <tbody>\n    <tr>\n      <th>a</th>\n      <td>99</td>\n      <td>69</td>\n    </tr>\n    <tr>\n      <th>c</th>\n      <td>60</td>\n      <td>90</td>\n    </tr>\n  </tbody>\n</table>\n</div>"
     },
     "execution_count": 17,
     "metadata": {},
     "output_type": "execute_result"
    }
   ],
   "source": [
    "df.loc[['a','c'],['math','chinese']]\n",
    "\n",
    "# or.....        #上面是直接写行名，下面则是通过行数来导出行名\n",
    "\n",
    "df.loc[df.index[[0,2]],['math','chinese']]"
   ],
   "metadata": {
    "collapsed": false,
    "ExecuteTime": {
     "end_time": "2023-12-05T08:21:57.638900Z",
     "start_time": "2023-12-05T08:21:57.606636100Z"
    }
   },
   "id": "50d53003ac7ee770"
  },
  {
   "cell_type": "markdown",
   "source": [
    "#### 7、选择math列中大于等于60的行"
   ],
   "metadata": {
    "collapsed": false
   },
   "id": "841b5cdb2b915707"
  },
  {
   "cell_type": "code",
   "execution_count": 27,
   "outputs": [
    {
     "data": {
      "text/plain": "   math  chinese  sports\na    99       69      99\nc    60       90      82",
      "text/html": "<div>\n<style scoped>\n    .dataframe tbody tr th:only-of-type {\n        vertical-align: middle;\n    }\n\n    .dataframe tbody tr th {\n        vertical-align: top;\n    }\n\n    .dataframe thead th {\n        text-align: right;\n    }\n</style>\n<table border=\"1\" class=\"dataframe\">\n  <thead>\n    <tr style=\"text-align: right;\">\n      <th></th>\n      <th>math</th>\n      <th>chinese</th>\n      <th>sports</th>\n    </tr>\n  </thead>\n  <tbody>\n    <tr>\n      <th>a</th>\n      <td>99</td>\n      <td>69</td>\n      <td>99</td>\n    </tr>\n    <tr>\n      <th>c</th>\n      <td>60</td>\n      <td>90</td>\n      <td>82</td>\n    </tr>\n  </tbody>\n</table>\n</div>"
     },
     "execution_count": 27,
     "metadata": {},
     "output_type": "execute_result"
    }
   ],
   "source": [
    "df[(df['math']>=60)]"
   ],
   "metadata": {
    "collapsed": false,
    "ExecuteTime": {
     "end_time": "2023-12-05T08:26:57.961776500Z",
     "start_time": "2023-12-05T08:26:57.947813200Z"
    }
   },
   "id": "4af9d11afdbfc233"
  },
  {
   "cell_type": "markdown",
   "source": [
    "#### 8、选择math列中大于等于60， chines列大于80 的行"
   ],
   "metadata": {
    "collapsed": false
   },
   "id": "8d6e34dd9422263"
  },
  {
   "cell_type": "code",
   "execution_count": 28,
   "outputs": [
    {
     "data": {
      "text/plain": "   math  chinese  sports\nc    60       90      82",
      "text/html": "<div>\n<style scoped>\n    .dataframe tbody tr th:only-of-type {\n        vertical-align: middle;\n    }\n\n    .dataframe tbody tr th {\n        vertical-align: top;\n    }\n\n    .dataframe thead th {\n        text-align: right;\n    }\n</style>\n<table border=\"1\" class=\"dataframe\">\n  <thead>\n    <tr style=\"text-align: right;\">\n      <th></th>\n      <th>math</th>\n      <th>chinese</th>\n      <th>sports</th>\n    </tr>\n  </thead>\n  <tbody>\n    <tr>\n      <th>c</th>\n      <td>60</td>\n      <td>90</td>\n      <td>82</td>\n    </tr>\n  </tbody>\n</table>\n</div>"
     },
     "execution_count": 28,
     "metadata": {},
     "output_type": "execute_result"
    }
   ],
   "source": [
    "df[(df['math']>=60) & (df['chinese']>80)]"
   ],
   "metadata": {
    "collapsed": false,
    "ExecuteTime": {
     "end_time": "2023-12-05T08:27:00.176587800Z",
     "start_time": "2023-12-05T08:27:00.149653800Z"
    }
   },
   "id": "ec6d1df61f0ebd6"
  },
  {
   "cell_type": "markdown",
   "source": [
    "#### 9、选择math的数值在40-70的行"
   ],
   "metadata": {
    "collapsed": false
   },
   "id": "cb2e0b832ad09910"
  },
  {
   "cell_type": "code",
   "execution_count": 30,
   "outputs": [
    {
     "data": {
      "text/plain": "   math  chinese  sports\nb    56       66      88\nc    60       90      82",
      "text/html": "<div>\n<style scoped>\n    .dataframe tbody tr th:only-of-type {\n        vertical-align: middle;\n    }\n\n    .dataframe tbody tr th {\n        vertical-align: top;\n    }\n\n    .dataframe thead th {\n        text-align: right;\n    }\n</style>\n<table border=\"1\" class=\"dataframe\">\n  <thead>\n    <tr style=\"text-align: right;\">\n      <th></th>\n      <th>math</th>\n      <th>chinese</th>\n      <th>sports</th>\n    </tr>\n  </thead>\n  <tbody>\n    <tr>\n      <th>b</th>\n      <td>56</td>\n      <td>66</td>\n      <td>88</td>\n    </tr>\n    <tr>\n      <th>c</th>\n      <td>60</td>\n      <td>90</td>\n      <td>82</td>\n    </tr>\n  </tbody>\n</table>\n</div>"
     },
     "execution_count": 30,
     "metadata": {},
     "output_type": "execute_result"
    }
   ],
   "source": [
    "df[df['math'].between(40,70)]"
   ],
   "metadata": {
    "collapsed": false,
    "ExecuteTime": {
     "end_time": "2023-12-05T08:34:17.632905Z",
     "start_time": "2023-12-05T08:34:17.616948900Z"
    }
   },
   "id": "99b0673d209902ac"
  },
  {
   "cell_type": "markdown",
   "source": [
    "#### 10、将第二行的math数值改为99"
   ],
   "metadata": {
    "collapsed": false
   },
   "id": "5f583c11e834cab0"
  },
  {
   "cell_type": "code",
   "execution_count": 32,
   "outputs": [
    {
     "data": {
      "text/plain": "   math  chinese  sports\na    99       69      99\nb    99       66      88\nc    60       90      82",
      "text/html": "<div>\n<style scoped>\n    .dataframe tbody tr th:only-of-type {\n        vertical-align: middle;\n    }\n\n    .dataframe tbody tr th {\n        vertical-align: top;\n    }\n\n    .dataframe thead th {\n        text-align: right;\n    }\n</style>\n<table border=\"1\" class=\"dataframe\">\n  <thead>\n    <tr style=\"text-align: right;\">\n      <th></th>\n      <th>math</th>\n      <th>chinese</th>\n      <th>sports</th>\n    </tr>\n  </thead>\n  <tbody>\n    <tr>\n      <th>a</th>\n      <td>99</td>\n      <td>69</td>\n      <td>99</td>\n    </tr>\n    <tr>\n      <th>b</th>\n      <td>99</td>\n      <td>66</td>\n      <td>88</td>\n    </tr>\n    <tr>\n      <th>c</th>\n      <td>60</td>\n      <td>90</td>\n      <td>82</td>\n    </tr>\n  </tbody>\n</table>\n</div>"
     },
     "execution_count": 32,
     "metadata": {},
     "output_type": "execute_result"
    }
   ],
   "source": [
    "df.loc['b','math'] = 99    # 可以看出loc函数用一个[]包裹，第一个参数是行，第二个参数是列。\n",
    "df"
   ],
   "metadata": {
    "collapsed": false,
    "ExecuteTime": {
     "end_time": "2023-12-05T08:35:55.254811400Z",
     "start_time": "2023-12-05T08:35:55.231874Z"
    }
   },
   "id": "3aea4f4922b0a165"
  },
  {
   "cell_type": "markdown",
   "source": [
    "#### 11、计算math列的sum"
   ],
   "metadata": {
    "collapsed": false
   },
   "id": "807e1564d10a8f08"
  },
  {
   "cell_type": "code",
   "execution_count": 34,
   "outputs": [
    {
     "data": {
      "text/plain": "258"
     },
     "execution_count": 34,
     "metadata": {},
     "output_type": "execute_result"
    }
   ],
   "source": [
    "df['math'].sum()"
   ],
   "metadata": {
    "collapsed": false,
    "ExecuteTime": {
     "end_time": "2023-12-05T09:53:18.994174700Z",
     "start_time": "2023-12-05T09:53:18.974228800Z"
    }
   },
   "id": "69fd608e2ecf287c"
  },
  {
   "cell_type": "markdown",
   "source": [
    "#### 12、计算不同性别的数学平均分"
   ],
   "metadata": {
    "collapsed": false
   },
   "id": "4c15ffc91fd1aa33"
  },
  {
   "cell_type": "code",
   "execution_count": 37,
   "outputs": [
    {
     "data": {
      "text/plain": "gender\nman      115.0\nwoman    125.0\nName: math, dtype: float64"
     },
     "execution_count": 37,
     "metadata": {},
     "output_type": "execute_result"
    }
   ],
   "source": [
    "df = pd.DataFrame([['a', 'man', 120, 90],\n",
    "                   ['b', 'woman', 130, 100],\n",
    "                   ['a', 'man', 110, 108],\n",
    "                   ['a', 'woman', 120, 118]], columns=['level', 'gender', 'math','chinese'])\n",
    "\n",
    "# 分组就是groupby方法。将DataFrame中所有行按照一列或多列来划分，分为多个组，列值相同的在同一组，列值不同的在不同组。\n",
    "# 像本题中以gender分组，gender相同的都在一起，然后进行后续操作\n",
    "df.groupby('gender')['math'].mean()"
   ],
   "metadata": {
    "collapsed": false,
    "ExecuteTime": {
     "end_time": "2023-12-05T09:58:13.919691200Z",
     "start_time": "2023-12-05T09:58:13.902564800Z"
    }
   },
   "id": "d541b6daf2eaed74"
  },
  {
   "cell_type": "markdown",
   "source": [
    "#### 13、添加一个新行，并赋值，然后再删除此行"
   ],
   "metadata": {
    "collapsed": false
   },
   "id": "1fd46174686ed132"
  },
  {
   "cell_type": "code",
   "execution_count": 41,
   "outputs": [
    {
     "data": {
      "text/plain": "  level gender  math  chinese\n0     a    man   120       90\n1     b  woman   130      100\n2     a    man   110      108\n3     a  woman   120      118",
      "text/html": "<div>\n<style scoped>\n    .dataframe tbody tr th:only-of-type {\n        vertical-align: middle;\n    }\n\n    .dataframe tbody tr th {\n        vertical-align: top;\n    }\n\n    .dataframe thead th {\n        text-align: right;\n    }\n</style>\n<table border=\"1\" class=\"dataframe\">\n  <thead>\n    <tr style=\"text-align: right;\">\n      <th></th>\n      <th>level</th>\n      <th>gender</th>\n      <th>math</th>\n      <th>chinese</th>\n    </tr>\n  </thead>\n  <tbody>\n    <tr>\n      <th>0</th>\n      <td>a</td>\n      <td>man</td>\n      <td>120</td>\n      <td>90</td>\n    </tr>\n    <tr>\n      <th>1</th>\n      <td>b</td>\n      <td>woman</td>\n      <td>130</td>\n      <td>100</td>\n    </tr>\n    <tr>\n      <th>2</th>\n      <td>a</td>\n      <td>man</td>\n      <td>110</td>\n      <td>108</td>\n    </tr>\n    <tr>\n      <th>3</th>\n      <td>a</td>\n      <td>woman</td>\n      <td>120</td>\n      <td>118</td>\n    </tr>\n  </tbody>\n</table>\n</div>"
     },
     "execution_count": 41,
     "metadata": {},
     "output_type": "execute_result"
    }
   ],
   "source": [
    "df.loc[4] = ['b','man',112,102]\n",
    "df\n",
    "df = df.drop('c')\n",
    "df = df.drop(4)\n",
    "df"
   ],
   "metadata": {
    "collapsed": false,
    "ExecuteTime": {
     "end_time": "2023-12-05T10:01:57.469566400Z",
     "start_time": "2023-12-05T10:01:57.436887100Z"
    }
   },
   "id": "dfe7fdc0db8a687c"
  },
  {
   "cell_type": "markdown",
   "source": [
    "#### 14、计算math列中出现的数据数量"
   ],
   "metadata": {
    "collapsed": false
   },
   "id": "91772c369f17a282"
  },
  {
   "cell_type": "code",
   "execution_count": 43,
   "outputs": [
    {
     "data": {
      "text/plain": "math\n120    2\n130    1\n110    1\nName: count, dtype: int64"
     },
     "execution_count": 43,
     "metadata": {},
     "output_type": "execute_result"
    }
   ],
   "source": [
    "df['math'].value_counts()"
   ],
   "metadata": {
    "collapsed": false,
    "ExecuteTime": {
     "end_time": "2023-12-05T10:03:23.641248600Z",
     "start_time": "2023-12-05T10:03:23.597707600Z"
    }
   },
   "id": "31d1404717e64e62"
  },
  {
   "cell_type": "markdown",
   "source": [
    "#### 15、  【18】"
   ],
   "metadata": {
    "collapsed": false
   },
   "id": "331b751d993f5f56"
  },
  {
   "cell_type": "code",
   "execution_count": null,
   "outputs": [],
   "source": [],
   "metadata": {
    "collapsed": false
   },
   "id": "270e36fee53dd550"
  }
 ],
 "metadata": {
  "kernelspec": {
   "display_name": "Python 3",
   "language": "python",
   "name": "python3"
  },
  "language_info": {
   "codemirror_mode": {
    "name": "ipython",
    "version": 2
   },
   "file_extension": ".py",
   "mimetype": "text/x-python",
   "name": "python",
   "nbconvert_exporter": "python",
   "pygments_lexer": "ipython2",
   "version": "2.7.6"
  }
 },
 "nbformat": 4,
 "nbformat_minor": 5
}
