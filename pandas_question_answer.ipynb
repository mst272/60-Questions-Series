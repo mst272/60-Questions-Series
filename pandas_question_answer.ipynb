{
 "cells": [
  {
   "cell_type": "markdown",
   "source": [
    "### 1、最基础的，引入pandas并重命名为pd"
   ],
   "metadata": {
    "collapsed": false
   },
   "id": "9d3018792debc1e4"
  },
  {
   "cell_type": "code",
   "execution_count": 7,
   "id": "initial_id",
   "metadata": {
    "collapsed": true,
    "ExecuteTime": {
     "end_time": "2023-12-06T02:34:41.562401Z",
     "start_time": "2023-12-06T02:34:40.007621200Z"
    }
   },
   "outputs": [],
   "source": [
    "import pandas as pd"
   ]
  },
  {
   "cell_type": "markdown",
   "source": [
    "### DataFrame 基础\n",
    "#### 2、将字典转换为pands数据"
   ],
   "metadata": {
    "collapsed": false
   },
   "id": "29314ef40fba75e6"
  },
  {
   "cell_type": "code",
   "execution_count": null,
   "outputs": [],
   "source": [
    "dic= {\n",
    "    'math': [99,56,60],\n",
    "    'chinese': [69,66,90],\n",
    "    'sports' : [99, 88, 82]\n",
    "}\n",
    "labels = ['a', 'b', 'c']   #指定行名，其实可以不指认，这样的话就是默认的0,1,2.。。。。。\n",
    "df = pd.DataFrame(dic,index=labels)\n",
    "df"
   ],
   "metadata": {
    "collapsed": false
   },
   "id": "99175c879b7aac14"
  },
  {
   "cell_type": "markdown",
   "source": [
    "#### 3、显示Dataframe上数据的基础信息"
   ],
   "metadata": {
    "collapsed": false
   },
   "id": "356a5798fa95236e"
  },
  {
   "cell_type": "code",
   "execution_count": 8,
   "outputs": [
    {
     "name": "stdout",
     "output_type": "stream",
     "text": [
      "<class 'pandas.core.frame.DataFrame'>\n",
      "Index: 3 entries, a to c\n",
      "Data columns (total 3 columns):\n",
      " #   Column   Non-Null Count  Dtype\n",
      "---  ------   --------------  -----\n",
      " 0   math     3 non-null      int64\n",
      " 1   chinese  3 non-null      int64\n",
      " 2   sports   3 non-null      int64\n",
      "dtypes: int64(3)\n",
      "memory usage: 96.0+ bytes\n"
     ]
    }
   ],
   "source": [
    "df.describe()  # 提供汇总数据统计\n",
    "\n",
    "# or\n",
    "\n",
    "df.info()  # 打印DataFrame的简要摘要"
   ],
   "metadata": {
    "collapsed": false,
    "ExecuteTime": {
     "end_time": "2023-12-05T03:27:30.665290700Z",
     "start_time": "2023-12-05T03:27:30.614429400Z"
    }
   },
   "id": "4dd464d2421ddfd8"
  },
  {
   "cell_type": "markdown",
   "source": [
    "#### 4、返回前n行数据"
   ],
   "metadata": {
    "collapsed": false
   },
   "id": "4e893adc7f36bf88"
  },
  {
   "cell_type": "code",
   "execution_count": 9,
   "outputs": [
    {
     "data": {
      "text/plain": "   math  chinese  sports\na    99       69      99\nb    56       66      88\nc    60       90      82",
      "text/html": "<div>\n<style scoped>\n    .dataframe tbody tr th:only-of-type {\n        vertical-align: middle;\n    }\n\n    .dataframe tbody tr th {\n        vertical-align: top;\n    }\n\n    .dataframe thead th {\n        text-align: right;\n    }\n</style>\n<table border=\"1\" class=\"dataframe\">\n  <thead>\n    <tr style=\"text-align: right;\">\n      <th></th>\n      <th>math</th>\n      <th>chinese</th>\n      <th>sports</th>\n    </tr>\n  </thead>\n  <tbody>\n    <tr>\n      <th>a</th>\n      <td>99</td>\n      <td>69</td>\n      <td>99</td>\n    </tr>\n    <tr>\n      <th>b</th>\n      <td>56</td>\n      <td>66</td>\n      <td>88</td>\n    </tr>\n    <tr>\n      <th>c</th>\n      <td>60</td>\n      <td>90</td>\n      <td>82</td>\n    </tr>\n  </tbody>\n</table>\n</div>"
     },
     "execution_count": 9,
     "metadata": {},
     "output_type": "execute_result"
    }
   ],
   "source": [
    "n = 5\n",
    "df.head(n)"
   ],
   "metadata": {
    "collapsed": false,
    "ExecuteTime": {
     "end_time": "2023-12-05T03:29:41.396975600Z",
     "start_time": "2023-12-05T03:29:41.378468600Z"
    }
   },
   "id": "ffd6810febf5e495"
  },
  {
   "cell_type": "markdown",
   "source": [
    "#### 5、只选择数据中的math 和 chinese列"
   ],
   "metadata": {
    "collapsed": false
   },
   "id": "e0dc24f98d208c41"
  },
  {
   "cell_type": "code",
   "execution_count": 12,
   "outputs": [
    {
     "data": {
      "text/plain": "   math  chinese\na    99       69\nb    56       66\nc    60       90",
      "text/html": "<div>\n<style scoped>\n    .dataframe tbody tr th:only-of-type {\n        vertical-align: middle;\n    }\n\n    .dataframe tbody tr th {\n        vertical-align: top;\n    }\n\n    .dataframe thead th {\n        text-align: right;\n    }\n</style>\n<table border=\"1\" class=\"dataframe\">\n  <thead>\n    <tr style=\"text-align: right;\">\n      <th></th>\n      <th>math</th>\n      <th>chinese</th>\n    </tr>\n  </thead>\n  <tbody>\n    <tr>\n      <th>a</th>\n      <td>99</td>\n      <td>69</td>\n    </tr>\n    <tr>\n      <th>b</th>\n      <td>56</td>\n      <td>66</td>\n    </tr>\n    <tr>\n      <th>c</th>\n      <td>60</td>\n      <td>90</td>\n    </tr>\n  </tbody>\n</table>\n</div>"
     },
     "execution_count": 12,
     "metadata": {},
     "output_type": "execute_result"
    }
   ],
   "source": [
    "df[['math','chinese']]"
   ],
   "metadata": {
    "collapsed": false,
    "ExecuteTime": {
     "end_time": "2023-12-05T05:54:42.017474600Z",
     "start_time": "2023-12-05T05:54:41.994760100Z"
    }
   },
   "id": "d828175f2398c424"
  },
  {
   "cell_type": "markdown",
   "source": [
    "#### 6、选择math 和 chinese 列中的第 1、3行数据"
   ],
   "metadata": {
    "collapsed": false
   },
   "id": "5db29e4b43627d8e"
  },
  {
   "cell_type": "code",
   "execution_count": 17,
   "outputs": [
    {
     "data": {
      "text/plain": "   math  chinese\na    99       69\nc    60       90",
      "text/html": "<div>\n<style scoped>\n    .dataframe tbody tr th:only-of-type {\n        vertical-align: middle;\n    }\n\n    .dataframe tbody tr th {\n        vertical-align: top;\n    }\n\n    .dataframe thead th {\n        text-align: right;\n    }\n</style>\n<table border=\"1\" class=\"dataframe\">\n  <thead>\n    <tr style=\"text-align: right;\">\n      <th></th>\n      <th>math</th>\n      <th>chinese</th>\n    </tr>\n  </thead>\n  <tbody>\n    <tr>\n      <th>a</th>\n      <td>99</td>\n      <td>69</td>\n    </tr>\n    <tr>\n      <th>c</th>\n      <td>60</td>\n      <td>90</td>\n    </tr>\n  </tbody>\n</table>\n</div>"
     },
     "execution_count": 17,
     "metadata": {},
     "output_type": "execute_result"
    }
   ],
   "source": [
    "df.loc[['a','c'],['math','chinese']]\n",
    "\n",
    "# or.....        #上面是直接写行名，下面则是通过行数来导出行名\n",
    "\n",
    "df.loc[df.index[[0,2]],['math','chinese']]"
   ],
   "metadata": {
    "collapsed": false,
    "ExecuteTime": {
     "end_time": "2023-12-05T08:21:57.638900Z",
     "start_time": "2023-12-05T08:21:57.606636100Z"
    }
   },
   "id": "50d53003ac7ee770"
  },
  {
   "cell_type": "markdown",
   "source": [
    "#### 7、选择math列中大于等于60的行"
   ],
   "metadata": {
    "collapsed": false
   },
   "id": "841b5cdb2b915707"
  },
  {
   "cell_type": "code",
   "execution_count": 27,
   "outputs": [
    {
     "data": {
      "text/plain": "   math  chinese  sports\na    99       69      99\nc    60       90      82",
      "text/html": "<div>\n<style scoped>\n    .dataframe tbody tr th:only-of-type {\n        vertical-align: middle;\n    }\n\n    .dataframe tbody tr th {\n        vertical-align: top;\n    }\n\n    .dataframe thead th {\n        text-align: right;\n    }\n</style>\n<table border=\"1\" class=\"dataframe\">\n  <thead>\n    <tr style=\"text-align: right;\">\n      <th></th>\n      <th>math</th>\n      <th>chinese</th>\n      <th>sports</th>\n    </tr>\n  </thead>\n  <tbody>\n    <tr>\n      <th>a</th>\n      <td>99</td>\n      <td>69</td>\n      <td>99</td>\n    </tr>\n    <tr>\n      <th>c</th>\n      <td>60</td>\n      <td>90</td>\n      <td>82</td>\n    </tr>\n  </tbody>\n</table>\n</div>"
     },
     "execution_count": 27,
     "metadata": {},
     "output_type": "execute_result"
    }
   ],
   "source": [
    "df[(df['math']>=60)]"
   ],
   "metadata": {
    "collapsed": false,
    "ExecuteTime": {
     "end_time": "2023-12-05T08:26:57.961776500Z",
     "start_time": "2023-12-05T08:26:57.947813200Z"
    }
   },
   "id": "4af9d11afdbfc233"
  },
  {
   "cell_type": "markdown",
   "source": [
    "#### 8、选择math列中大于等于60， chines列大于80 的行"
   ],
   "metadata": {
    "collapsed": false
   },
   "id": "8d6e34dd9422263"
  },
  {
   "cell_type": "code",
   "execution_count": 28,
   "outputs": [
    {
     "data": {
      "text/plain": "   math  chinese  sports\nc    60       90      82",
      "text/html": "<div>\n<style scoped>\n    .dataframe tbody tr th:only-of-type {\n        vertical-align: middle;\n    }\n\n    .dataframe tbody tr th {\n        vertical-align: top;\n    }\n\n    .dataframe thead th {\n        text-align: right;\n    }\n</style>\n<table border=\"1\" class=\"dataframe\">\n  <thead>\n    <tr style=\"text-align: right;\">\n      <th></th>\n      <th>math</th>\n      <th>chinese</th>\n      <th>sports</th>\n    </tr>\n  </thead>\n  <tbody>\n    <tr>\n      <th>c</th>\n      <td>60</td>\n      <td>90</td>\n      <td>82</td>\n    </tr>\n  </tbody>\n</table>\n</div>"
     },
     "execution_count": 28,
     "metadata": {},
     "output_type": "execute_result"
    }
   ],
   "source": [
    "df[(df['math']>=60) & (df['chinese']>80)]"
   ],
   "metadata": {
    "collapsed": false,
    "ExecuteTime": {
     "end_time": "2023-12-05T08:27:00.176587800Z",
     "start_time": "2023-12-05T08:27:00.149653800Z"
    }
   },
   "id": "ec6d1df61f0ebd6"
  },
  {
   "cell_type": "markdown",
   "source": [
    "#### 9、选择math的数值在40-70的行"
   ],
   "metadata": {
    "collapsed": false
   },
   "id": "cb2e0b832ad09910"
  },
  {
   "cell_type": "code",
   "execution_count": 30,
   "outputs": [
    {
     "data": {
      "text/plain": "   math  chinese  sports\nb    56       66      88\nc    60       90      82",
      "text/html": "<div>\n<style scoped>\n    .dataframe tbody tr th:only-of-type {\n        vertical-align: middle;\n    }\n\n    .dataframe tbody tr th {\n        vertical-align: top;\n    }\n\n    .dataframe thead th {\n        text-align: right;\n    }\n</style>\n<table border=\"1\" class=\"dataframe\">\n  <thead>\n    <tr style=\"text-align: right;\">\n      <th></th>\n      <th>math</th>\n      <th>chinese</th>\n      <th>sports</th>\n    </tr>\n  </thead>\n  <tbody>\n    <tr>\n      <th>b</th>\n      <td>56</td>\n      <td>66</td>\n      <td>88</td>\n    </tr>\n    <tr>\n      <th>c</th>\n      <td>60</td>\n      <td>90</td>\n      <td>82</td>\n    </tr>\n  </tbody>\n</table>\n</div>"
     },
     "execution_count": 30,
     "metadata": {},
     "output_type": "execute_result"
    }
   ],
   "source": [
    "df[df['math'].between(40,70)]"
   ],
   "metadata": {
    "collapsed": false,
    "ExecuteTime": {
     "end_time": "2023-12-05T08:34:17.632905Z",
     "start_time": "2023-12-05T08:34:17.616948900Z"
    }
   },
   "id": "99b0673d209902ac"
  },
  {
   "cell_type": "markdown",
   "source": [
    "#### 10、将第二行的math数值改为99"
   ],
   "metadata": {
    "collapsed": false
   },
   "id": "5f583c11e834cab0"
  },
  {
   "cell_type": "code",
   "execution_count": 32,
   "outputs": [
    {
     "data": {
      "text/plain": "   math  chinese  sports\na    99       69      99\nb    99       66      88\nc    60       90      82",
      "text/html": "<div>\n<style scoped>\n    .dataframe tbody tr th:only-of-type {\n        vertical-align: middle;\n    }\n\n    .dataframe tbody tr th {\n        vertical-align: top;\n    }\n\n    .dataframe thead th {\n        text-align: right;\n    }\n</style>\n<table border=\"1\" class=\"dataframe\">\n  <thead>\n    <tr style=\"text-align: right;\">\n      <th></th>\n      <th>math</th>\n      <th>chinese</th>\n      <th>sports</th>\n    </tr>\n  </thead>\n  <tbody>\n    <tr>\n      <th>a</th>\n      <td>99</td>\n      <td>69</td>\n      <td>99</td>\n    </tr>\n    <tr>\n      <th>b</th>\n      <td>99</td>\n      <td>66</td>\n      <td>88</td>\n    </tr>\n    <tr>\n      <th>c</th>\n      <td>60</td>\n      <td>90</td>\n      <td>82</td>\n    </tr>\n  </tbody>\n</table>\n</div>"
     },
     "execution_count": 32,
     "metadata": {},
     "output_type": "execute_result"
    }
   ],
   "source": [
    "df.loc['b','math'] = 99    # 可以看出loc函数用一个[]包裹，第一个参数是行，第二个参数是列。\n",
    "df"
   ],
   "metadata": {
    "collapsed": false,
    "ExecuteTime": {
     "end_time": "2023-12-05T08:35:55.254811400Z",
     "start_time": "2023-12-05T08:35:55.231874Z"
    }
   },
   "id": "3aea4f4922b0a165"
  },
  {
   "cell_type": "markdown",
   "source": [
    "#### 11、计算math列的sum"
   ],
   "metadata": {
    "collapsed": false
   },
   "id": "807e1564d10a8f08"
  },
  {
   "cell_type": "code",
   "execution_count": 34,
   "outputs": [
    {
     "data": {
      "text/plain": "258"
     },
     "execution_count": 34,
     "metadata": {},
     "output_type": "execute_result"
    }
   ],
   "source": [
    "df['math'].sum()"
   ],
   "metadata": {
    "collapsed": false,
    "ExecuteTime": {
     "end_time": "2023-12-05T09:53:18.994174700Z",
     "start_time": "2023-12-05T09:53:18.974228800Z"
    }
   },
   "id": "69fd608e2ecf287c"
  },
  {
   "cell_type": "markdown",
   "source": [
    "#### 12、计算不同性别的数学平均分(以性别分组计算数学的平均分)"
   ],
   "metadata": {
    "collapsed": false
   },
   "id": "4c15ffc91fd1aa33"
  },
  {
   "cell_type": "code",
   "execution_count": 20,
   "outputs": [
    {
     "data": {
      "text/plain": "gender\nman      115.0\nwoman    125.0\nName: math, dtype: float64"
     },
     "execution_count": 20,
     "metadata": {},
     "output_type": "execute_result"
    }
   ],
   "source": [
    "df = pd.DataFrame([['a', 'man', 120, 90],\n",
    "                   ['b', 'woman', 130, 100],\n",
    "                   ['a', 'man', 110, 108],\n",
    "                   ['a', 'woman', 120, 118]], columns=['level', 'gender', 'math','chinese'])\n",
    "\n",
    "# 分组就是groupby方法。将DataFrame中所有行按照一列或多列来划分，分为多个组，列值相同的在同一组，列值不同的在不同组。\n",
    "# 像本题中以gender分组，gender相同的都在一起，然后进行后续操作\n",
    "df.groupby('gender')['math'].mean()"
   ],
   "metadata": {
    "collapsed": false,
    "ExecuteTime": {
     "end_time": "2023-12-06T02:56:10.935108300Z",
     "start_time": "2023-12-06T02:56:10.916497100Z"
    }
   },
   "id": "d541b6daf2eaed74"
  },
  {
   "cell_type": "markdown",
   "source": [
    "#### 13、添加一个新行，并赋值，然后再删除此行"
   ],
   "metadata": {
    "collapsed": false
   },
   "id": "1fd46174686ed132"
  },
  {
   "cell_type": "code",
   "execution_count": 22,
   "outputs": [
    {
     "data": {
      "text/plain": "  level gender  math  chinese\n0     a    man   120       90\n1     b  woman   130      100\n2     a    man   110      108\n3     a  woman   120      118",
      "text/html": "<div>\n<style scoped>\n    .dataframe tbody tr th:only-of-type {\n        vertical-align: middle;\n    }\n\n    .dataframe tbody tr th {\n        vertical-align: top;\n    }\n\n    .dataframe thead th {\n        text-align: right;\n    }\n</style>\n<table border=\"1\" class=\"dataframe\">\n  <thead>\n    <tr style=\"text-align: right;\">\n      <th></th>\n      <th>level</th>\n      <th>gender</th>\n      <th>math</th>\n      <th>chinese</th>\n    </tr>\n  </thead>\n  <tbody>\n    <tr>\n      <th>0</th>\n      <td>a</td>\n      <td>man</td>\n      <td>120</td>\n      <td>90</td>\n    </tr>\n    <tr>\n      <th>1</th>\n      <td>b</td>\n      <td>woman</td>\n      <td>130</td>\n      <td>100</td>\n    </tr>\n    <tr>\n      <th>2</th>\n      <td>a</td>\n      <td>man</td>\n      <td>110</td>\n      <td>108</td>\n    </tr>\n    <tr>\n      <th>3</th>\n      <td>a</td>\n      <td>woman</td>\n      <td>120</td>\n      <td>118</td>\n    </tr>\n  </tbody>\n</table>\n</div>"
     },
     "execution_count": 22,
     "metadata": {},
     "output_type": "execute_result"
    }
   ],
   "source": [
    "df.loc[4] = ['b','man',112,102]\n",
    "df\n",
    "df = df.drop(4)\n",
    "df"
   ],
   "metadata": {
    "collapsed": false,
    "ExecuteTime": {
     "end_time": "2023-12-06T02:56:38.297533800Z",
     "start_time": "2023-12-06T02:56:38.227929300Z"
    }
   },
   "id": "dfe7fdc0db8a687c"
  },
  {
   "cell_type": "markdown",
   "source": [
    "#### 14、计算math列中出现的数据数量"
   ],
   "metadata": {
    "collapsed": false
   },
   "id": "91772c369f17a282"
  },
  {
   "cell_type": "code",
   "execution_count": 10,
   "outputs": [
    {
     "data": {
      "text/plain": "math\n120    2\n130    1\n110    1\nName: count, dtype: int64"
     },
     "execution_count": 10,
     "metadata": {},
     "output_type": "execute_result"
    }
   ],
   "source": [
    "df[('math')].value_counts()"
   ],
   "metadata": {
    "collapsed": false,
    "ExecuteTime": {
     "end_time": "2023-12-06T02:35:58.164576700Z",
     "start_time": "2023-12-06T02:35:58.134657300Z"
    }
   },
   "id": "31d1404717e64e62"
  },
  {
   "cell_type": "markdown",
   "source": [
    "#### 15、  先对math中的数值以升序排列，如果有相同的，再对chinese中的数值降序排列"
   ],
   "metadata": {
    "collapsed": false
   },
   "id": "331b751d993f5f56"
  },
  {
   "cell_type": "code",
   "execution_count": 13,
   "outputs": [
    {
     "data": {
      "text/plain": "  level gender  math  chinese\n2     a    man   110      108\n3     a  woman   120      118\n0     a    man   120       90\n1     b  woman   130      100",
      "text/html": "<div>\n<style scoped>\n    .dataframe tbody tr th:only-of-type {\n        vertical-align: middle;\n    }\n\n    .dataframe tbody tr th {\n        vertical-align: top;\n    }\n\n    .dataframe thead th {\n        text-align: right;\n    }\n</style>\n<table border=\"1\" class=\"dataframe\">\n  <thead>\n    <tr style=\"text-align: right;\">\n      <th></th>\n      <th>level</th>\n      <th>gender</th>\n      <th>math</th>\n      <th>chinese</th>\n    </tr>\n  </thead>\n  <tbody>\n    <tr>\n      <th>2</th>\n      <td>a</td>\n      <td>man</td>\n      <td>110</td>\n      <td>108</td>\n    </tr>\n    <tr>\n      <th>3</th>\n      <td>a</td>\n      <td>woman</td>\n      <td>120</td>\n      <td>118</td>\n    </tr>\n    <tr>\n      <th>0</th>\n      <td>a</td>\n      <td>man</td>\n      <td>120</td>\n      <td>90</td>\n    </tr>\n    <tr>\n      <th>1</th>\n      <td>b</td>\n      <td>woman</td>\n      <td>130</td>\n      <td>100</td>\n    </tr>\n  </tbody>\n</table>\n</div>"
     },
     "execution_count": 13,
     "metadata": {},
     "output_type": "execute_result"
    }
   ],
   "source": [
    "df.sort_values(by=['math','chinese'],ascending=[True,False])"
   ],
   "metadata": {
    "collapsed": false,
    "ExecuteTime": {
     "end_time": "2023-12-06T02:51:45.213662800Z",
     "start_time": "2023-12-06T02:51:45.169662100Z"
    }
   },
   "id": "270e36fee53dd550"
  },
  {
   "cell_type": "markdown",
   "source": [
    "#### 16、将level列中的a，b对应换成True和False"
   ],
   "metadata": {
    "collapsed": false
   },
   "id": "4d57daf8b5a6b614"
  },
  {
   "cell_type": "code",
   "execution_count": 23,
   "outputs": [
    {
     "data": {
      "text/plain": "   level gender  math  chinese\n0   True    man   120       90\n1  False  woman   130      100\n2   True    man   110      108\n3   True  woman   120      118",
      "text/html": "<div>\n<style scoped>\n    .dataframe tbody tr th:only-of-type {\n        vertical-align: middle;\n    }\n\n    .dataframe tbody tr th {\n        vertical-align: top;\n    }\n\n    .dataframe thead th {\n        text-align: right;\n    }\n</style>\n<table border=\"1\" class=\"dataframe\">\n  <thead>\n    <tr style=\"text-align: right;\">\n      <th></th>\n      <th>level</th>\n      <th>gender</th>\n      <th>math</th>\n      <th>chinese</th>\n    </tr>\n  </thead>\n  <tbody>\n    <tr>\n      <th>0</th>\n      <td>True</td>\n      <td>man</td>\n      <td>120</td>\n      <td>90</td>\n    </tr>\n    <tr>\n      <th>1</th>\n      <td>False</td>\n      <td>woman</td>\n      <td>130</td>\n      <td>100</td>\n    </tr>\n    <tr>\n      <th>2</th>\n      <td>True</td>\n      <td>man</td>\n      <td>110</td>\n      <td>108</td>\n    </tr>\n    <tr>\n      <th>3</th>\n      <td>True</td>\n      <td>woman</td>\n      <td>120</td>\n      <td>118</td>\n    </tr>\n  </tbody>\n</table>\n</div>"
     },
     "execution_count": 23,
     "metadata": {},
     "output_type": "execute_result"
    }
   ],
   "source": [
    "df['level'] = df['level'].map({'a':'True','b':'False'})\n",
    "df"
   ],
   "metadata": {
    "collapsed": false,
    "ExecuteTime": {
     "end_time": "2023-12-06T02:56:48.596809800Z",
     "start_time": "2023-12-06T02:56:48.558806500Z"
    }
   },
   "id": "3eaedeba9352d18d"
  },
  {
   "cell_type": "markdown",
   "source": [
    "#### 17、将gender列中woman改成human"
   ],
   "metadata": {
    "collapsed": false
   },
   "id": "cac010f45071016a"
  },
  {
   "cell_type": "code",
   "execution_count": 24,
   "outputs": [
    {
     "data": {
      "text/plain": "   level gender  math  chinese\n0   True    man   120       90\n1  False  human   130      100\n2   True    man   110      108\n3   True  human   120      118",
      "text/html": "<div>\n<style scoped>\n    .dataframe tbody tr th:only-of-type {\n        vertical-align: middle;\n    }\n\n    .dataframe tbody tr th {\n        vertical-align: top;\n    }\n\n    .dataframe thead th {\n        text-align: right;\n    }\n</style>\n<table border=\"1\" class=\"dataframe\">\n  <thead>\n    <tr style=\"text-align: right;\">\n      <th></th>\n      <th>level</th>\n      <th>gender</th>\n      <th>math</th>\n      <th>chinese</th>\n    </tr>\n  </thead>\n  <tbody>\n    <tr>\n      <th>0</th>\n      <td>True</td>\n      <td>man</td>\n      <td>120</td>\n      <td>90</td>\n    </tr>\n    <tr>\n      <th>1</th>\n      <td>False</td>\n      <td>human</td>\n      <td>130</td>\n      <td>100</td>\n    </tr>\n    <tr>\n      <th>2</th>\n      <td>True</td>\n      <td>man</td>\n      <td>110</td>\n      <td>108</td>\n    </tr>\n    <tr>\n      <th>3</th>\n      <td>True</td>\n      <td>human</td>\n      <td>120</td>\n      <td>118</td>\n    </tr>\n  </tbody>\n</table>\n</div>"
     },
     "execution_count": 24,
     "metadata": {},
     "output_type": "execute_result"
    }
   ],
   "source": [
    "df['gender'] = df['gender'].replace('woman','human')\n",
    "df"
   ],
   "metadata": {
    "collapsed": false,
    "ExecuteTime": {
     "end_time": "2023-12-06T02:59:10.275748600Z",
     "start_time": "2023-12-06T02:59:10.219498300Z"
    }
   },
   "id": "7cb690241ca562a9"
  },
  {
   "cell_type": "markdown",
   "source": [
    "#### 18、pivot_table相关操作"
   ],
   "metadata": {
    "collapsed": false
   },
   "id": "3424ba17b1f49e6d"
  },
  {
   "cell_type": "code",
   "execution_count": null,
   "outputs": [],
   "source": [
    "# 透视表相关 可以自己去搜一下相关，例子这里不再赘述。"
   ],
   "metadata": {
    "collapsed": false
   },
   "id": "e11fac4839bb0626"
  },
  {
   "cell_type": "markdown",
   "source": [
    "#### 19、随机初始化一个5行3列的数据，并将每行的数值减去列平均值"
   ],
   "metadata": {
    "collapsed": false
   },
   "id": "8ffd9a26fefb537a"
  },
  {
   "cell_type": "code",
   "execution_count": 25,
   "outputs": [
    {
     "data": {
      "text/plain": "          0         1         2\n0  0.020562 -0.175355  0.154793\n1  0.104806 -0.182814  0.078009\n2  0.365238 -0.559076  0.193838\n3  0.137025 -0.268720  0.131694\n4 -0.195515  0.028448  0.167068",
      "text/html": "<div>\n<style scoped>\n    .dataframe tbody tr th:only-of-type {\n        vertical-align: middle;\n    }\n\n    .dataframe tbody tr th {\n        vertical-align: top;\n    }\n\n    .dataframe thead th {\n        text-align: right;\n    }\n</style>\n<table border=\"1\" class=\"dataframe\">\n  <thead>\n    <tr style=\"text-align: right;\">\n      <th></th>\n      <th>0</th>\n      <th>1</th>\n      <th>2</th>\n    </tr>\n  </thead>\n  <tbody>\n    <tr>\n      <th>0</th>\n      <td>0.020562</td>\n      <td>-0.175355</td>\n      <td>0.154793</td>\n    </tr>\n    <tr>\n      <th>1</th>\n      <td>0.104806</td>\n      <td>-0.182814</td>\n      <td>0.078009</td>\n    </tr>\n    <tr>\n      <th>2</th>\n      <td>0.365238</td>\n      <td>-0.559076</td>\n      <td>0.193838</td>\n    </tr>\n    <tr>\n      <th>3</th>\n      <td>0.137025</td>\n      <td>-0.268720</td>\n      <td>0.131694</td>\n    </tr>\n    <tr>\n      <th>4</th>\n      <td>-0.195515</td>\n      <td>0.028448</td>\n      <td>0.167068</td>\n    </tr>\n  </tbody>\n</table>\n</div>"
     },
     "execution_count": 25,
     "metadata": {},
     "output_type": "execute_result"
    }
   ],
   "source": [
    "import numpy as np\n",
    "df = pd.DataFrame(np.random.random(size=(5,3)))\n",
    "df.sub(df.mean(axis=1),axis=0)"
   ],
   "metadata": {
    "collapsed": false,
    "ExecuteTime": {
     "end_time": "2023-12-06T03:25:54.028704Z",
     "start_time": "2023-12-06T03:25:53.981815500Z"
    }
   },
   "id": "4f108e1c2db50ac8"
  },
  {
   "cell_type": "markdown",
   "source": [
    "#### 20、创建一个包含2023年所有工作日 日期的索引"
   ],
   "metadata": {
    "collapsed": false
   },
   "id": "5b019ef071dca025"
  },
  {
   "cell_type": "code",
   "execution_count": 33,
   "outputs": [
    {
     "data": {
      "text/plain": "2023-01-02   -1.289348\n2023-01-03   -0.487386\n2023-01-04   -0.880695\n2023-01-05   -0.311975\n2023-01-06    1.012339\n                ...   \n2023-12-25   -0.036146\n2023-12-26    2.154769\n2023-12-27    1.771605\n2023-12-28   -1.702673\n2023-12-29    0.092170\nFreq: B, Length: 260, dtype: float64"
     },
     "execution_count": 33,
     "metadata": {},
     "output_type": "execute_result"
    }
   ],
   "source": [
    "# 需要注意的是，pandas中有非常强大的时间处理功能，如有具体时间处理需要，可以自行百度，在此只有一题，权当抛砖引玉了。\n",
    "\n",
    "date = pd.date_range('2023-01-01','2023-12-31',freq='B')\n",
    "s = pd.Series(np.random.randn(len(date)),index=date)\n",
    "s"
   ],
   "metadata": {
    "collapsed": false,
    "ExecuteTime": {
     "end_time": "2023-12-06T06:06:43.068248700Z",
     "start_time": "2023-12-06T06:06:43.031917600Z"
    }
   },
   "id": "3885e4030682e5ce"
  },
  {
   "cell_type": "markdown",
   "source": [
    "#### 21、 将From_To列的数据根据_花划分为From 和 To，并添加到新列中。"
   ],
   "metadata": {
    "collapsed": false
   },
   "id": "e9100cc1c46209f6"
  },
  {
   "cell_type": "code",
   "execution_count": 40,
   "outputs": [
    {
     "data": {
      "text/plain": "            From_To  FlightNumber  RecentDelays              Airline\n0      LoNDon_paris       10045.0      [23, 47]               KLM(!)\n1      MAdrid_miLAN           NaN            []    <Air France> (12)\n2  londON_StockhOlm       10065.0  [24, 43, 87]  (British Airways. )\n3    Budapest_PaRis           NaN          [13]       12. Air France\n4   Brussels_londOn       10085.0      [67, 32]          \"Swiss Air\"",
      "text/html": "<div>\n<style scoped>\n    .dataframe tbody tr th:only-of-type {\n        vertical-align: middle;\n    }\n\n    .dataframe tbody tr th {\n        vertical-align: top;\n    }\n\n    .dataframe thead th {\n        text-align: right;\n    }\n</style>\n<table border=\"1\" class=\"dataframe\">\n  <thead>\n    <tr style=\"text-align: right;\">\n      <th></th>\n      <th>From_To</th>\n      <th>FlightNumber</th>\n      <th>RecentDelays</th>\n      <th>Airline</th>\n    </tr>\n  </thead>\n  <tbody>\n    <tr>\n      <th>0</th>\n      <td>LoNDon_paris</td>\n      <td>10045.0</td>\n      <td>[23, 47]</td>\n      <td>KLM(!)</td>\n    </tr>\n    <tr>\n      <th>1</th>\n      <td>MAdrid_miLAN</td>\n      <td>NaN</td>\n      <td>[]</td>\n      <td>&lt;Air France&gt; (12)</td>\n    </tr>\n    <tr>\n      <th>2</th>\n      <td>londON_StockhOlm</td>\n      <td>10065.0</td>\n      <td>[24, 43, 87]</td>\n      <td>(British Airways. )</td>\n    </tr>\n    <tr>\n      <th>3</th>\n      <td>Budapest_PaRis</td>\n      <td>NaN</td>\n      <td>[13]</td>\n      <td>12. Air France</td>\n    </tr>\n    <tr>\n      <th>4</th>\n      <td>Brussels_londOn</td>\n      <td>10085.0</td>\n      <td>[67, 32]</td>\n      <td>\"Swiss Air\"</td>\n    </tr>\n  </tbody>\n</table>\n</div>"
     },
     "execution_count": 40,
     "metadata": {},
     "output_type": "execute_result"
    }
   ],
   "source": [
    "df = pd.DataFrame({'From_To': ['LoNDon_paris', 'MAdrid_miLAN', 'londON_StockhOlm', \n",
    "                               'Budapest_PaRis', 'Brussels_londOn'],\n",
    "              'FlightNumber': [10045, np.nan, 10065, np.nan, 10085],\n",
    "              'RecentDelays': [[23, 47], [], [24, 43, 87], [13], [67, 32]],\n",
    "                   'Airline': ['KLM(!)', '<Air France> (12)', '(British Airways. )', \n",
    "                               '12. Air France', '\"Swiss Air\"']})\n",
    "df"
   ],
   "metadata": {
    "collapsed": false,
    "ExecuteTime": {
     "end_time": "2023-12-06T06:31:12.031764100Z",
     "start_time": "2023-12-06T06:31:12.015352900Z"
    }
   },
   "id": "fca812544d949045"
  },
  {
   "cell_type": "code",
   "execution_count": 41,
   "outputs": [
    {
     "data": {
      "text/plain": "       From         To\n0    LoNDon      paris\n1    MAdrid      miLAN\n2    londON  StockhOlm\n3  Budapest      PaRis\n4  Brussels     londOn",
      "text/html": "<div>\n<style scoped>\n    .dataframe tbody tr th:only-of-type {\n        vertical-align: middle;\n    }\n\n    .dataframe tbody tr th {\n        vertical-align: top;\n    }\n\n    .dataframe thead th {\n        text-align: right;\n    }\n</style>\n<table border=\"1\" class=\"dataframe\">\n  <thead>\n    <tr style=\"text-align: right;\">\n      <th></th>\n      <th>From</th>\n      <th>To</th>\n    </tr>\n  </thead>\n  <tbody>\n    <tr>\n      <th>0</th>\n      <td>LoNDon</td>\n      <td>paris</td>\n    </tr>\n    <tr>\n      <th>1</th>\n      <td>MAdrid</td>\n      <td>miLAN</td>\n    </tr>\n    <tr>\n      <th>2</th>\n      <td>londON</td>\n      <td>StockhOlm</td>\n    </tr>\n    <tr>\n      <th>3</th>\n      <td>Budapest</td>\n      <td>PaRis</td>\n    </tr>\n    <tr>\n      <th>4</th>\n      <td>Brussels</td>\n      <td>londOn</td>\n    </tr>\n  </tbody>\n</table>\n</div>"
     },
     "execution_count": 41,
     "metadata": {},
     "output_type": "execute_result"
    }
   ],
   "source": [
    "temp = df.From_To.str.split('_',expand=True)\n",
    "temp.columns = ['From', 'To']\n",
    "temp"
   ],
   "metadata": {
    "collapsed": false,
    "ExecuteTime": {
     "end_time": "2023-12-06T06:31:12.998147400Z",
     "start_time": "2023-12-06T06:31:12.978243500Z"
    }
   },
   "id": "bee7c8f5ba28fe79"
  },
  {
   "cell_type": "markdown",
   "source": [
    "#### 22、删除原数据中的From_To列，并把temp加到原始数据中"
   ],
   "metadata": {
    "collapsed": false
   },
   "id": "24fe2ff8c5ba46cf"
  },
  {
   "cell_type": "code",
   "execution_count": 42,
   "outputs": [
    {
     "data": {
      "text/plain": "   FlightNumber  RecentDelays              Airline      From         To\n0       10045.0      [23, 47]               KLM(!)    LoNDon      paris\n1           NaN            []    <Air France> (12)    MAdrid      miLAN\n2       10065.0  [24, 43, 87]  (British Airways. )    londON  StockhOlm\n3           NaN          [13]       12. Air France  Budapest      PaRis\n4       10085.0      [67, 32]          \"Swiss Air\"  Brussels     londOn",
      "text/html": "<div>\n<style scoped>\n    .dataframe tbody tr th:only-of-type {\n        vertical-align: middle;\n    }\n\n    .dataframe tbody tr th {\n        vertical-align: top;\n    }\n\n    .dataframe thead th {\n        text-align: right;\n    }\n</style>\n<table border=\"1\" class=\"dataframe\">\n  <thead>\n    <tr style=\"text-align: right;\">\n      <th></th>\n      <th>FlightNumber</th>\n      <th>RecentDelays</th>\n      <th>Airline</th>\n      <th>From</th>\n      <th>To</th>\n    </tr>\n  </thead>\n  <tbody>\n    <tr>\n      <th>0</th>\n      <td>10045.0</td>\n      <td>[23, 47]</td>\n      <td>KLM(!)</td>\n      <td>LoNDon</td>\n      <td>paris</td>\n    </tr>\n    <tr>\n      <th>1</th>\n      <td>NaN</td>\n      <td>[]</td>\n      <td>&lt;Air France&gt; (12)</td>\n      <td>MAdrid</td>\n      <td>miLAN</td>\n    </tr>\n    <tr>\n      <th>2</th>\n      <td>10065.0</td>\n      <td>[24, 43, 87]</td>\n      <td>(British Airways. )</td>\n      <td>londON</td>\n      <td>StockhOlm</td>\n    </tr>\n    <tr>\n      <th>3</th>\n      <td>NaN</td>\n      <td>[13]</td>\n      <td>12. Air France</td>\n      <td>Budapest</td>\n      <td>PaRis</td>\n    </tr>\n    <tr>\n      <th>4</th>\n      <td>10085.0</td>\n      <td>[67, 32]</td>\n      <td>\"Swiss Air\"</td>\n      <td>Brussels</td>\n      <td>londOn</td>\n    </tr>\n  </tbody>\n</table>\n</div>"
     },
     "execution_count": 42,
     "metadata": {},
     "output_type": "execute_result"
    }
   ],
   "source": [
    "df = df.drop('From_To',axis=1)\n",
    "df = df.join(temp)\n",
    "df"
   ],
   "metadata": {
    "collapsed": false,
    "ExecuteTime": {
     "end_time": "2023-12-06T06:34:16.657349900Z",
     "start_time": "2023-12-06T06:34:16.591023100Z"
    }
   },
   "id": "e9b09b2c0c3bcda4"
  },
  {
   "cell_type": "markdown",
   "source": [
    "### 在pandas中绘图\n",
    "#### 23、引入相应的包及简单的绘画"
   ],
   "metadata": {
    "collapsed": false
   },
   "id": "79d70344266c032d"
  },
  {
   "cell_type": "code",
   "execution_count": 43,
   "outputs": [
    {
     "data": {
      "text/plain": "<Axes: xlabel='xs', ylabel='ys'>"
     },
     "execution_count": 43,
     "metadata": {},
     "output_type": "execute_result"
    },
    {
     "data": {
      "text/plain": "<Figure size 640x480 with 1 Axes>",
      "image/png": "[encoded data removed]"
     },
     "metadata": {},
     "output_type": "display_data"
    }
   ],
   "source": [
    "import matplotlib.pyplot as plt\n",
    "plt.style.use('ggplot')\n",
    "\n",
    "df = pd.DataFrame({\"xs\":[1,5,2,8,1], \"ys\":[4,2,1,9,6]})\n",
    "\n",
    "df.plot.scatter(\"xs\", \"ys\", color = \"black\", marker = \"x\")"
   ],
   "metadata": {
    "collapsed": false,
    "ExecuteTime": {
     "end_time": "2023-12-06T06:52:11.836588400Z",
     "start_time": "2023-12-06T06:52:10.167514800Z"
    }
   },
   "id": "36ac73f017da6e37"
  },
  {
   "cell_type": "markdown",
   "source": [
    "## 24、散点图相关画法"
   ],
   "metadata": {
    "collapsed": false
   },
   "id": "b6b2151ee90ffcb4"
  },
  {
   "cell_type": "code",
   "execution_count": 45,
   "outputs": [
    {
     "data": {
      "text/plain": "'\\n这段代码使用 pandas 库的 plot 方法绘制一个散点图。让我们分解这个代码以更好地理解它的作用。\\n\\ndf.plot.scatter: 这个操作表示我们要在 DataFrame 上绘制一个散点图。plot.scatter() 方法用于绘制两个变量之间的关系。\\n\\n\"hours_in\", \"productivity\": 这两个参数分别表示散点图的 x 轴和 y 轴数据。在这里，我们使用 DataFrame 中的 \\'hours_in\\' 列作为 x 轴数据，\\'productivity\\' 列作为 y 轴数据。\\n\\ns = df.happiness * 30: 这个参数表示散点的大小。在这里，我们使用 DataFrame 中的 \\'happiness\\' 列乘以 30 作为散点的大小。这可以帮助我们根据 \\'happiness\\' 列的值更好地区分不同的数据点。\\n\\nc = df.caffienated: 这个参数表示散点的颜色。在这里，我们使用 DataFrame 中的 \\'caffienated\\' 列作为散点的颜色。这可以帮助我们根据 \\'caffienated\\' 列的值对数据点进行分类。\\n'"
     },
     "execution_count": 45,
     "metadata": {},
     "output_type": "execute_result"
    },
    {
     "data": {
      "text/plain": "<Figure size 640x480 with 1 Axes>",
      "image/png": "[encoded data removed]"
     },
     "metadata": {},
     "output_type": "display_data"
    }
   ],
   "source": [
    "df = pd.DataFrame({\"productivity\":[5,2,3,1,4,5,6,7,8,3,4,8,9],\n",
    "                   \"hours_in\"    :[1,9,6,5,3,9,2,9,1,7,4,2,2],\n",
    "                   \"happiness\"   :[2,1,3,2,3,1,2,3,1,2,2,1,3],\n",
    "                   \"caffienated\" :[0,0,1,1,0,0,0,0,1,1,0,1,0]})\n",
    "\n",
    "df.plot.scatter(\"hours_in\", \"productivity\", s = df.happiness * 30, c = df.caffienated)\n",
    "\n",
    "'''\n",
    "这段代码使用 pandas 库的 plot 方法绘制一个散点图。\n",
    "\n",
    "df.plot.scatter: 这个操作表示我们要在 DataFrame 上绘制一个散点图。plot.scatter() 方法用于绘制两个变量之间的关系。\n",
    "\n",
    "\"hours_in\", \"productivity\": 这两个参数分别表示散点图的 x 轴和 y 轴数据。在这里，我们使用 DataFrame 中的 'hours_in' 列作为 x 轴数据，'productivity' 列作为 y 轴数据。\n",
    "\n",
    "s = df.happiness * 30: 这个参数表示散点的大小。在这里，我们使用 DataFrame 中的 'happiness' 列乘以 30 作为散点的大小。这可以帮助我们根据 'happiness' 列的值更好地区分不同的数据点。\n",
    "\n",
    "c = df.caffienated: 这个参数表示散点的颜色。在这里，我们使用 DataFrame 中的 'caffienated' 列作为散点的颜色。这可以帮助我们根据 'caffienated' 列的值对数据点进行分类。\n",
    "'''"
   ],
   "metadata": {
    "collapsed": false,
    "ExecuteTime": {
     "end_time": "2023-12-06T06:59:24.009818200Z",
     "start_time": "2023-12-06T06:59:23.864043800Z"
    }
   },
   "id": "cb546fcc5a70db24"
  },
  {
   "cell_type": "markdown",
   "source": [
    "#### 25、同坐标下画折线图和柱状图"
   ],
   "metadata": {
    "collapsed": false
   },
   "id": "a145740c983d9779"
  },
  {
   "cell_type": "code",
   "execution_count": 46,
   "outputs": [
    {
     "data": {
      "text/plain": "(-1.0, 12.0)"
     },
     "execution_count": 46,
     "metadata": {},
     "output_type": "execute_result"
    },
    {
     "data": {
      "text/plain": "<Figure size 640x480 with 2 Axes>",
      "image/png": "[encoded data removed]"
     },
     "metadata": {},
     "output_type": "display_data"
    }
   ],
   "source": [
    "df = pd.DataFrame({\"revenue\":[57,68,63,71,72,90,80,62,59,51,47,52],\n",
    "                   \"advertising\":[2.1,1.9,2.7,3.0,3.6,3.2,2.7,2.4,1.8,1.6,1.3,1.9],\n",
    "                   \"month\":range(12)\n",
    "                  })\n",
    "\n",
    "ax = df.plot.bar(\"month\", \"revenue\", color = \"green\")\n",
    "df.plot.line(\"month\", \"advertising\", secondary_y = True, ax = ax)\n",
    "ax.set_xlim((-1,12))\n",
    "\n",
    "\n",
    "'''\n",
    "这段代码使用 pandas 库和 Matplotlib 库创建了一个组合图表，包括一个柱状图和一个折线图。\n",
    "\n",
    "df = pd.DataFrame(...): 这个代码创建了一个包含 'revenue'（收入）、'advertising'（广告支出）和 'month'（月份）列的 pandas DataFrame。\n",
    "\n",
    "ax = df.plot.bar(\"month\", \"revenue\", color=\"green\"): 这个操作在 DataFrame 上绘制一个柱状图，x 轴为 'month'，y 轴为 'revenue'。color=\"green\" 参数设置柱状图的颜色为绿色。\n",
    "\n",
    "df.plot.line(\"month\", \"advertising\", secondary_y=True, ax=ax): 这个操作在同一个图表中绘制一个折线图，x 轴为 'month'，y 轴为 'advertising'。secondary_y=True 参数表示这个折线图将使用次要 y 轴，以便在同一张图表上展示两个 y 轴。ax=ax 参数表示我们将在这个柱状图的同一个坐标轴上绘制折线图。\n",
    "\n",
    "ax.set_xlim((-1, 12)): 这个操作设置 x 轴的显示范围，从 -1 到 12。这可以确保图表中的所有数据点都可见。\n",
    "'''"
   ],
   "metadata": {
    "collapsed": false,
    "ExecuteTime": {
     "end_time": "2023-12-06T07:06:59.485219Z",
     "start_time": "2023-12-06T07:06:59.281841500Z"
    }
   },
   "id": "119ff6d9dbea062a"
  },
  {
   "cell_type": "code",
   "execution_count": null,
   "outputs": [],
   "source": [],
   "metadata": {
    "collapsed": false
   },
   "id": "a32a1a3d1d5dd4ce"
  }
 ],
 "metadata": {
  "kernelspec": {
   "display_name": "Python 3",
   "language": "python",
   "name": "python3"
  },
  "language_info": {
   "codemirror_mode": {
    "name": "ipython",
    "version": 2
   },
   "file_extension": ".py",
   "mimetype": "text/x-python",
   "name": "python",
   "nbconvert_exporter": "python",
   "pygments_lexer": "ipython2",
   "version": "2.7.6"
  }
 },
 "nbformat": 4,
 "nbformat_minor": 5
}
