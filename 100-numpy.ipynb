{
 "cells": [
  {
   "cell_type": "markdown",
   "id": "27810bac084bc606",
   "metadata": {
    "collapsed": false
   },
   "source": [
    "1. Import the numpy package under the name np (★☆☆)')"
   ]
  },
  {
   "cell_type": "code",
   "execution_count": 1,
   "id": "a709c56548cb1d04",
   "metadata": {
    "collapsed": false,
    "ExecuteTime": {
     "end_time": "2023-10-16T15:04:16.913616200Z",
     "start_time": "2023-10-16T15:04:16.834122600Z"
    }
   },
   "outputs": [],
   "source": [
    "import  numpy as np\n"
   ]
  },
  {
   "cell_type": "markdown",
   "id": "303570a2c372c969",
   "metadata": {
    "collapsed": false
   },
   "source": [
    "2. Print the numpy version and the configuration (★☆☆)') 打印numpy版本"
   ]
  },
  {
   "cell_type": "code",
   "execution_count": 4,
   "id": "9772bd1d4c5a067",
   "metadata": {
    "ExecuteTime": {
     "end_time": "2023-10-12T13:43:51.284482700Z",
     "start_time": "2023-10-12T13:43:51.263419600Z"
    },
    "collapsed": false
   },
   "outputs": [
    {
     "name": "stdout",
     "output_type": "stream",
     "text": [
      "1.26.0\n"
     ]
    }
   ],
   "source": [
    "print(np.__version__)"
   ]
  },
  {
   "cell_type": "markdown",
   "id": "5a0112cc526737d6",
   "metadata": {
    "collapsed": false
   },
   "source": [
    "3. Create a null vector of size 10 (★☆☆)')  创建一个size为10的空向量"
   ]
  },
  {
   "cell_type": "code",
   "execution_count": 7,
   "id": "d011b7937127c0bb",
   "metadata": {
    "ExecuteTime": {
     "end_time": "2023-10-12T13:55:40.657168300Z",
     "start_time": "2023-10-12T13:55:40.649167400Z"
    },
    "collapsed": false
   },
   "outputs": [
    {
     "name": "stdout",
     "output_type": "stream",
     "text": [
      "[0. 0. 0. 0. 0. 0. 0. 0. 0. 0.]\n",
      "[[5.1 5.1 5.1]\n",
      " [5.1 5.1 5.1]]\n"
     ]
    }
   ],
   "source": [
    "# np.empty 构造一个大小为 shape 的未初始化数组,\n",
    "# np.zeros 构造一个大小为 shape 的全0数组,\n",
    "# np.ones 构造一个大小为 shape 的全1数组,\n",
    "print(np.zeros(10))\n",
    "print(np.full((2,3),5.1))"
   ]
  },
  {
   "cell_type": "markdown",
   "id": "4767252611f549c7",
   "metadata": {
    "collapsed": false
   },
   "source": [
    "    4、How to find the memory size of any array (★☆☆)')\n",
    "    查看数组占用内存大小"
   ]
  },
  {
   "cell_type": "code",
   "execution_count": 7,
   "id": "fb73cfc513ea27a6",
   "metadata": {
    "ExecuteTime": {
     "end_time": "2023-10-15T08:24:05.768764800Z",
     "start_time": "2023-10-15T08:24:05.750760300Z"
    },
    "collapsed": false
   },
   "outputs": [
    {
     "name": "stdout",
     "output_type": "stream",
     "text": [
      "32\n"
     ]
    }
   ],
   "source": [
    "Z = np.zeros((2,2))\n",
    "print(Z.size*Z.itemsize)"
   ]
  },
  {
   "cell_type": "markdown",
   "id": "d8ff8bcf4e72377f",
   "metadata": {
    "collapsed": false
   },
   "source": [
    "5. How to get the documentation of the numpy add function from the command line? (★☆☆)')\n",
    "查看numpy中add函数的用法"
   ]
  },
  {
   "cell_type": "code",
   "execution_count": 8,
   "id": "5369091606d7a735",
   "metadata": {
    "ExecuteTime": {
     "end_time": "2023-10-15T08:25:09.389891300Z",
     "start_time": "2023-10-15T08:25:09.363885800Z"
    },
    "collapsed": false
   },
   "outputs": [
    {
     "name": "stdout",
     "output_type": "stream",
     "text": [
      "add(x1, x2, /, out=None, *, where=True, casting='same_kind', order='K', dtype=None, subok=True[, signature, extobj])\n",
      "\n",
      "Add arguments element-wise.\n",
      "\n",
      "Parameters\n",
      "----------\n",
      "x1, x2 : array_like\n",
      "    The arrays to be added.\n",
      "    If ``x1.shape != x2.shape``, they must be broadcastable to a common\n",
      "    shape (which becomes the shape of the output).\n",
      "out : ndarray, None, or tuple of ndarray and None, optional\n",
      "    A location into which the result is stored. If provided, it must have\n",
      "    a shape that the inputs broadcast to. If not provided or None,\n",
      "    a freshly-allocated array is returned. A tuple (possible only as a\n",
      "    keyword argument) must have length equal to the number of outputs.\n",
      "where : array_like, optional\n",
      "    This condition is broadcast over the input. At locations where the\n",
      "    condition is True, the `out` array will be set to the ufunc result.\n",
      "    Elsewhere, the `out` array will retain its original value.\n",
      "    Note that if an uninitialized `out` array is created via the default\n",
      "    ``out=None``, locations within it where the condition is False will\n",
      "    remain uninitialized.\n",
      "**kwargs\n",
      "    For other keyword-only arguments, see the\n",
      "    :ref:`ufunc docs <ufuncs.kwargs>`.\n",
      "\n",
      "Returns\n",
      "-------\n",
      "add : ndarray or scalar\n",
      "    The sum of `x1` and `x2`, element-wise.\n",
      "    This is a scalar if both `x1` and `x2` are scalars.\n",
      "\n",
      "Notes\n",
      "-----\n",
      "Equivalent to `x1` + `x2` in terms of array broadcasting.\n",
      "\n",
      "Examples\n",
      "--------\n",
      ">>> np.add(1.0, 4.0)\n",
      "5.0\n",
      ">>> x1 = np.arange(9.0).reshape((3, 3))\n",
      ">>> x2 = np.arange(3.0)\n",
      ">>> np.add(x1, x2)\n",
      "array([[  0.,   2.,   4.],\n",
      "       [  3.,   5.,   7.],\n",
      "       [  6.,   8.,  10.]])\n",
      "\n",
      "The ``+`` operator can be used as a shorthand for ``np.add`` on ndarrays.\n",
      "\n",
      ">>> x1 = np.arange(9.0).reshape((3, 3))\n",
      ">>> x2 = np.arange(3.0)\n",
      ">>> x1 + x2\n",
      "array([[ 0.,  2.,  4.],\n",
      "       [ 3.,  5.,  7.],\n",
      "       [ 6.,  8., 10.]])\n"
     ]
    }
   ],
   "source": [
    "np.info(np.add)"
   ]
  },
  {
   "cell_type": "markdown",
   "id": "d824d1d30c543f72",
   "metadata": {
    "collapsed": false
   },
   "source": [
    "6. Create a null vector of size 10 but the fifth value which is 1 (★☆☆)')\n",
    "创建一个大小为10的空向量，将第5个值设为1"
   ]
  },
  {
   "cell_type": "code",
   "execution_count": 9,
   "id": "1d6edc9a75f74754",
   "metadata": {
    "ExecuteTime": {
     "end_time": "2023-10-15T08:26:03.575499200Z",
     "start_time": "2023-10-15T08:26:03.559495800Z"
    },
    "collapsed": false
   },
   "outputs": [
    {
     "name": "stdout",
     "output_type": "stream",
     "text": [
      "[0. 0. 0. 0. 1. 0. 0. 0. 0. 0.]\n"
     ]
    }
   ],
   "source": [
    "vector = np.zeros(10)\n",
    "vector[4] = 1\n",
    "print(vector)"
   ]
  },
  {
   "cell_type": "markdown",
   "id": "c23bda321e5e16ff",
   "metadata": {
    "collapsed": false
   },
   "source": [
    "7、Create a vector with values ranging from 10 to 49 (★☆☆)')\n",
    "用10到49的序列构建一个向量"
   ]
  },
  {
   "cell_type": "code",
   "execution_count": 10,
   "id": "d88ac48ff92e93b8",
   "metadata": {
    "ExecuteTime": {
     "end_time": "2023-10-15T08:41:04.223110Z",
     "start_time": "2023-10-15T08:41:04.205545600Z"
    },
    "collapsed": false
   },
   "outputs": [
    {
     "name": "stdout",
     "output_type": "stream",
     "text": [
      "[10 11 12 13 14 15 16 17 18 19 20 21 22 23 24 25 26 27 28 29 30 31 32 33\n",
      " 34 35 36 37 38 39 40 41 42 43 44 45 46 47 48 49]\n"
     ]
    }
   ],
   "source": [
    "print(np.arange(10,50))"
   ]
  },
  {
   "cell_type": "markdown",
   "id": "d1aa17a8961c309f",
   "metadata": {
    "collapsed": false
   },
   "source": [
    "8. Reverse a vector (first element becomes last) (★☆☆)')\n",
    "将一个数组变换倒序（最后一个元素成为第一个元素）"
   ]
  },
  {
   "cell_type": "code",
   "execution_count": 11,
   "id": "b6f049e6b5e8add3",
   "metadata": {
    "ExecuteTime": {
     "end_time": "2023-10-15T08:41:52.428938600Z",
     "start_time": "2023-10-15T08:41:52.405933500Z"
    },
    "collapsed": false
   },
   "outputs": [
    {
     "name": "stdout",
     "output_type": "stream",
     "text": [
      "[4 3 2 1 0]\n"
     ]
    }
   ],
   "source": [
    "z = np.arange(5)\n",
    "print(z[::-1])"
   ]
  },
  {
   "cell_type": "markdown",
   "id": "92dbd17a8f35a173",
   "metadata": {
    "collapsed": false
   },
   "source": [
    "9. Create a 3x3 matrix with values ranging from 0 to 8 (★☆☆)')\n",
    "用0-8这9个数构造一个3x3大小的矩阵"
   ]
  },
  {
   "cell_type": "code",
   "execution_count": 16,
   "id": "1d52900574e5040",
   "metadata": {
    "ExecuteTime": {
     "end_time": "2023-10-15T08:45:29.063909300Z",
     "start_time": "2023-10-15T08:45:29.041673500Z"
    },
    "collapsed": false
   },
   "outputs": [
    {
     "name": "stdout",
     "output_type": "stream",
     "text": [
      "[[0 1 2]\n",
      " [3 4 5]\n",
      " [6 7 8]]\n"
     ]
    }
   ],
   "source": [
    "# reshape 可以允许有一个参数为-1 ，系统会依据元素个数进行换算\n",
    "Z = np.arange(9)\n",
    "Z = Z.reshape((3,-1))\n",
    "print(Z)"
   ]
  },
  {
   "cell_type": "markdown",
   "id": "d27b47448835fbf0",
   "metadata": {
    "collapsed": false
   },
   "source": [
    "10. Find indices of non-zero elements from [1,2,0,0,4,0] (★☆☆)')\n",
    "从数组[1,2,0,0,4,0]中找出非0元素的下标"
   ]
  },
  {
   "cell_type": "code",
   "execution_count": 17,
   "id": "f8be0893e050a97b",
   "metadata": {
    "ExecuteTime": {
     "end_time": "2023-10-15T08:46:06.228495300Z",
     "start_time": "2023-10-15T08:46:06.218948800Z"
    },
    "collapsed": false
   },
   "outputs": [
    {
     "name": "stdout",
     "output_type": "stream",
     "text": [
      "(array([0, 1, 4], dtype=int64),)\n"
     ]
    }
   ],
   "source": [
    "# 直接就是一个函数的调用\n",
    "print(np.nonzero([1, 2, 0, 0, 4, 0]))"
   ]
  },
  {
   "cell_type": "markdown",
   "id": "7239ef67012ec12c",
   "metadata": {
    "collapsed": false
   },
   "source": [
    "11. Create a 3x3 identity matrix (★☆☆)')\n",
    "创建3x3的对角矩阵"
   ]
  },
  {
   "cell_type": "code",
   "execution_count": 22,
   "id": "1980f4215d1293f1",
   "metadata": {
    "ExecuteTime": {
     "end_time": "2023-10-15T08:49:39.528071500Z",
     "start_time": "2023-10-15T08:49:39.507882900Z"
    },
    "collapsed": false
   },
   "outputs": [
    {
     "name": "stdout",
     "output_type": "stream",
     "text": [
      "[[1. 0. 0.]\n",
      " [0. 1. 0.]\n",
      " [0. 0. 1.]]\n"
     ]
    }
   ],
   "source": [
    "# eye函数为对角线方阵函数   默认第一个和第二个参数相等，第三个参数为对角线位置\n",
    "print(np.eye(3,3,0)) "
   ]
  },
  {
   "cell_type": "markdown",
   "id": "f4f2ac1b",
   "metadata": {},
   "source": [
    "12. Create a 3x3x3 array with random values (★☆☆)')\n",
    "用随机数创建一个3x3x3的矩阵"
   ]
  },
  {
   "cell_type": "code",
   "execution_count": 2,
   "id": "793ed774",
   "metadata": {},
   "outputs": [
    {
     "name": "stdout",
     "output_type": "stream",
     "text": [
      "[[[0.31063024 0.16740101 0.16669268]\n",
      "  [0.09512781 0.08402649 0.3250009 ]\n",
      "  [0.930577   0.86525312 0.84099957]]\n",
      "\n",
      " [[0.89457945 0.47284741 0.57024416]\n",
      "  [0.95228752 0.20259826 0.54498983]\n",
      "  [0.74699559 0.21953833 0.46896824]]\n",
      "\n",
      " [[0.49398834 0.31258144 0.75806161]\n",
      "  [0.31387007 0.40162698 0.86246942]\n",
      "  [0.10918903 0.10301681 0.27018636]]]\n"
     ]
    }
   ],
   "source": [
    "print(np.random.random((3,3,3)))"
   ]
  },
  {
   "cell_type": "markdown",
   "id": "26530f5e",
   "metadata": {},
   "source": [
    "13. Create a 10x10 array with random values and find the minimum and maximum values (★☆☆)')\n",
    "创建一个10x10的随机数矩阵，并找到最大值和最小值"
   ]
  },
  {
   "cell_type": "code",
   "execution_count": 3,
   "id": "12112ed7",
   "metadata": {},
   "outputs": [
    {
     "name": "stdout",
     "output_type": "stream",
     "text": [
      "[[0.67403077 0.25994059 0.62286279 0.96833729 0.71525618 0.55518256\n",
      "  0.57349266 0.78731826 0.55487533 0.2092418 ]\n",
      " [0.66770565 0.60108121 0.02554386 0.48812085 0.34496485 0.97350678\n",
      "  0.53516662 0.0190299  0.37173883 0.04783323]\n",
      " [0.63429535 0.25044188 0.61078225 0.2036714  0.26429658 0.13194824\n",
      "  0.40303132 0.30875163 0.39295226 0.16320092]\n",
      " [0.31264045 0.59725618 0.62977181 0.01426315 0.30403523 0.47865258\n",
      "  0.46861153 0.47661143 0.20548856 0.07742402]\n",
      " [0.3699263  0.76245448 0.96777203 0.22685221 0.52891422 0.00620351\n",
      "  0.24093106 0.05944034 0.90737393 0.30712716]\n",
      " [0.44121318 0.23617954 0.35055127 0.52263729 0.2532481  0.64732683\n",
      "  0.99922873 0.79308998 0.23853628 0.87245781]\n",
      " [0.92388753 0.63046526 0.46100269 0.55639433 0.44192026 0.49753818\n",
      "  0.71348076 0.48377329 0.12740372 0.92353087]\n",
      " [0.50724692 0.76461906 0.36909538 0.3750733  0.30754635 0.16232404\n",
      "  0.2070471  0.92338493 0.87348127 0.95199187]\n",
      " [0.80419614 0.59323148 0.98082811 0.7128871  0.72650194 0.22456328\n",
      "  0.07282892 0.68616389 0.17448532 0.98918315]\n",
      " [0.01394645 0.86797369 0.71604556 0.76697333 0.05156887 0.33990021\n",
      "  0.39070787 0.74347721 0.06884764 0.48699477]]\n",
      "0.9992287267677465 0.006203510657550204\n"
     ]
    }
   ],
   "source": [
    "sample = np.random.random((10,10))\n",
    "print(sample)\n",
    "print(sample.max(),sample.min())"
   ]
  },
  {
   "cell_type": "markdown",
   "id": "05018bee",
   "metadata": {},
   "source": [
    "14. Create a random vector of size 30 and find the mean value (★☆☆)')\n",
    "创建一个大小为30的数组，并计算其算术平均值"
   ]
  },
  {
   "cell_type": "code",
   "execution_count": 4,
   "id": "e7f844d3",
   "metadata": {},
   "outputs": [
    {
     "name": "stdout",
     "output_type": "stream",
     "text": [
      "0.47073934957690344\n"
     ]
    }
   ],
   "source": [
    "print(np.random.random(30).mean())"
   ]
  },
  {
   "cell_type": "markdown",
   "id": "733f666a",
   "metadata": {},
   "source": [
    "15. Create a 2d array with 1 on the border and 0 inside (★☆☆)\n",
    "创建一个2d数组，边框为1，内部为0\n"
   ]
  },
  {
   "cell_type": "code",
   "execution_count": 5,
   "id": "edd85329",
   "metadata": {},
   "outputs": [
    {
     "name": "stdout",
     "output_type": "stream",
     "text": [
      "[[1. 1. 1. 1. 1. 1. 1. 1. 1. 1.]\n",
      " [1. 0. 0. 0. 0. 0. 0. 0. 0. 1.]\n",
      " [1. 0. 0. 0. 0. 0. 0. 0. 0. 1.]\n",
      " [1. 0. 0. 0. 0. 0. 0. 0. 0. 1.]\n",
      " [1. 0. 0. 0. 0. 0. 0. 0. 0. 1.]\n",
      " [1. 0. 0. 0. 0. 0. 0. 0. 0. 1.]\n",
      " [1. 0. 0. 0. 0. 0. 0. 0. 0. 1.]\n",
      " [1. 0. 0. 0. 0. 0. 0. 0. 0. 1.]\n",
      " [1. 0. 0. 0. 0. 0. 0. 0. 0. 1.]\n",
      " [1. 1. 1. 1. 1. 1. 1. 1. 1. 1.]]\n"
     ]
    }
   ],
   "source": [
    "Z = np.ones((10,10))\n",
    "Z[1:-1,1:-1] = 0\n",
    "print(Z)"
   ]
  },
  {
   "cell_type": "markdown",
   "source": [
    "16. How to add a border (filled with 0s) around an existing array? (★☆☆)')\n",
    "扩展给定数组的边界"
   ],
   "metadata": {
    "collapsed": false
   },
   "id": "3f6c4cd9cbb6ed27"
  },
  {
   "cell_type": "code",
   "execution_count": 5,
   "outputs": [
    {
     "name": "stdout",
     "output_type": "stream",
     "text": [
      "[[1. 1. 1. 1.]\n",
      " [1. 1. 1. 1.]\n",
      " [1. 1. 1. 1.]\n",
      " [1. 1. 1. 1.]]\n",
      "[[0. 0. 0. 0. 0. 0.]\n",
      " [0. 1. 1. 1. 1. 0.]\n",
      " [0. 1. 1. 1. 1. 0.]\n",
      " [0. 1. 1. 1. 1. 0.]\n",
      " [0. 1. 1. 1. 1. 0.]\n",
      " [0. 0. 0. 0. 0. 0.]]\n"
     ]
    }
   ],
   "source": [
    "sample16 = np.ones((4,4))\n",
    "print(sample16)\n",
    "print(np.pad(sample16, 1, mode='constant', constant_values=0))"
   ],
   "metadata": {
    "collapsed": false,
    "ExecuteTime": {
     "end_time": "2023-10-16T15:11:31.603720700Z",
     "start_time": "2023-10-16T15:11:31.599719700Z"
    }
   },
   "id": "8e31c7be0f7e68cd"
  },
  {
   "cell_type": "markdown",
   "source": [
    "17. What is the result of the following expression? (★☆☆)')\n",
    "指出下列表达式的结果是什么?"
   ],
   "metadata": {
    "collapsed": false
   },
   "id": "ddb228170eaee48c"
  },
  {
   "cell_type": "code",
   "execution_count": 6,
   "outputs": [
    {
     "name": "stdout",
     "output_type": "stream",
     "text": [
      "nan\n",
      "nan\n",
      "False\n",
      "False\n",
      "True\n",
      "False\n",
      "True\n"
     ]
    }
   ],
   "source": [
    "# nan的意思是Not a Number nan的类型是float64\n",
    "print(0 * np.nan)  # nan  有nan参与的运算, 其结果也一定是nan\n",
    "print(np.nan - np.nan) # nan\n",
    "print(np.nan == np.nan) # False nan不是数，所以无法进行比较运算\n",
    "print(np.nan > np.nan) # False\n",
    "print(np.nan in {np.nan}) # True  nan在nan的字典中\n",
    "print(0.3 == 3 * 0.1) # False  浮点数可以比大小，但相等要用math.isclose比较\n",
    "import math\n",
    "print(math.isclose(0.3, 3 * 0.1)) # True"
   ],
   "metadata": {
    "collapsed": false,
    "ExecuteTime": {
     "end_time": "2023-10-16T15:12:26.684802400Z",
     "start_time": "2023-10-16T15:12:26.664797200Z"
    }
   },
   "id": "5f150b4df45aeb18"
  },
  {
   "cell_type": "markdown",
   "source": [
    "18. Create a 5x5 matrix with values 1,2,3,4 just below the diagonal (★☆☆)')\n",
    "用1，2，3，4做为对角线的下移一行，来创建5x5的矩阵"
   ],
   "metadata": {
    "collapsed": false
   },
   "id": "9bbddfce081527d8"
  },
  {
   "cell_type": "code",
   "execution_count": 10,
   "outputs": [
    {
     "name": "stdout",
     "output_type": "stream",
     "text": [
      "[[0 0 0 0 0]\n",
      " [1 0 0 0 0]\n",
      " [0 2 0 0 0]\n",
      " [0 0 3 0 0]\n",
      " [0 0 0 4 0]]\n"
     ]
    }
   ],
   "source": [
    "# hint diag函数的第二个参数指定对角线的位置\n",
    "print(np.diag([1, 2, 3, 4], -1))"
   ],
   "metadata": {
    "collapsed": false,
    "ExecuteTime": {
     "end_time": "2023-10-16T15:14:15.707363900Z",
     "start_time": "2023-10-16T15:14:15.695360Z"
    }
   },
   "id": "988bc1feb476832"
  },
  {
   "cell_type": "markdown",
   "source": [
    "19. Create a 8x8 matrix and fill it with a checkerboard pattern (★☆☆)')\n",
    "创建一个类似国际象棋棋盘的8x8的矩阵"
   ],
   "metadata": {
    "collapsed": false
   },
   "id": "8b39d547f2a7524a"
  },
  {
   "cell_type": "code",
   "execution_count": 11,
   "outputs": [
    {
     "name": "stdout",
     "output_type": "stream",
     "text": [
      "[[1. 0. 1. 0. 1. 0. 1. 0.]\n",
      " [0. 1. 0. 1. 0. 1. 0. 1.]\n",
      " [1. 0. 1. 0. 1. 0. 1. 0.]\n",
      " [0. 1. 0. 1. 0. 1. 0. 1.]\n",
      " [1. 0. 1. 0. 1. 0. 1. 0.]\n",
      " [0. 1. 0. 1. 0. 1. 0. 1.]\n",
      " [1. 0. 1. 0. 1. 0. 1. 0.]\n",
      " [0. 1. 0. 1. 0. 1. 0. 1.]]\n"
     ]
    }
   ],
   "source": [
    "sample19 = np.zeros((8, 8))\n",
    "\n",
    "sample19[::2, ::2] = 1\n",
    "sample19[1::2, 1::2] = 1\n",
    "print(sample19)"
   ],
   "metadata": {
    "collapsed": false,
    "ExecuteTime": {
     "end_time": "2023-10-16T15:14:34.915710100Z",
     "start_time": "2023-10-16T15:14:34.895705Z"
    }
   },
   "id": "7e6015bb0c978147"
  },
  {
   "cell_type": "markdown",
   "source": [
    "20. Consider a (6,7,8) shape array, what is the index (x,y,z) of the 100th element?(★☆☆)')\n",
    "对一个6x7x8的数组，找出第100个元素的下标"
   ],
   "metadata": {
    "collapsed": false
   },
   "id": "18f2bc8f94f3e264"
  },
  {
   "cell_type": "code",
   "execution_count": 14,
   "outputs": [
    {
     "name": "stdout",
     "output_type": "stream",
     "text": [
      "(1, 5, 3)\n"
     ]
    }
   ],
   "source": [
    "#unravel_index方法 “一句话概括：求出数组某元素（或某组元素）拉成一维后的索引值在原本维度（或指定新维度）中对应的索引”\n",
    "sample = np.zeros((6,7,8))\n",
    "print(np.unravel_index(99,(6,7,8)))"
   ],
   "metadata": {
    "collapsed": false,
    "ExecuteTime": {
     "end_time": "2023-10-16T15:16:45.238065400Z",
     "start_time": "2023-10-16T15:16:45.230062300Z"
    }
   },
   "id": "b4ed336b71393b2b"
  },
  {
   "cell_type": "markdown",
   "source": [
    "21. Create a checkerboard 8x8 matrix using the tile function (★☆☆)')\n",
    "使用tile函数创建一个棋盘"
   ],
   "metadata": {
    "collapsed": false
   },
   "id": "32a940a8a039d98b"
  },
  {
   "cell_type": "code",
   "execution_count": 17,
   "outputs": [
    {
     "name": "stdout",
     "output_type": "stream",
     "text": [
      "[[0 1 0 1]\n",
      " [1 0 1 0]\n",
      " [0 1 0 1]\n",
      " [1 0 1 0]]\n"
     ]
    }
   ],
   "source": [
    "# tile作用是 将A扩大倍数，其中（2,2）表示X轴扩大两倍，Y轴扩大两倍，以此类推。\n",
    "print(np.tile([[0, 1], [1, 0]], (2, 2)))"
   ],
   "metadata": {
    "collapsed": false,
    "ExecuteTime": {
     "end_time": "2023-10-16T15:22:28.950584300Z",
     "start_time": "2023-10-16T15:22:28.934663900Z"
    }
   },
   "id": "47f973f9e2d6ce3f"
  },
  {
   "cell_type": "code",
   "execution_count": null,
   "outputs": [],
   "source": [],
   "metadata": {
    "collapsed": false
   },
   "id": "1723e3c82c0a5195"
  }
 ],
 "metadata": {
  "kernelspec": {
   "display_name": "Python 3",
   "language": "python",
   "name": "python3"
  },
  "language_info": {
   "codemirror_mode": {
    "name": "ipython",
    "version": 3
   },
   "file_extension": ".py",
   "mimetype": "text/x-python",
   "name": "python",
   "nbconvert_exporter": "python",
   "pygments_lexer": "ipython3",
   "version": "3.9.0"
  }
 },
 "nbformat": 4,
 "nbformat_minor": 5
}
